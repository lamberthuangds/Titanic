{
 "cells": [
  {
   "cell_type": "code",
   "execution_count": 92,
   "metadata": {},
   "outputs": [],
   "source": [
    "import numpy as np\n",
    "import pandas as pd\n",
    "import matplotlib.pyplot as plt\n",
    "from sklearn.model_selection import train_test_split\n",
    "from sklearn.neighbors import KNeighborsClassifier\n",
    "from sklearn.tree import DecisionTreeClassifier\n",
    "from sklearn.linear_model import LogisticRegression\n",
    "from sklearn.linear_model import SGDClassifier\n",
    "from sklearn.svm import SVC\n",
    "from sklearn.ensemble import GradientBoostingClassifier\n",
    "from sklearn.ensemble import RandomForestClassifier\n",
    "from sklearn.neural_network import MLPClassifier\n",
    "from sklearn.naive_bayes import GaussianNB\n",
    "from sklearn.dummy import DummyClassifier\n",
    "from sklearn.model_selection import GridSearchCV\n",
    "from sklearn.preprocessing import LabelEncoder\n",
    "from sklearn.preprocessing import MinMaxScaler\n",
    "from sklearn.metrics import roc_auc_score\n",
    "from sklearn.metrics import roc_curve, auc\n",
    "import tensorflow as tf\n",
    "path ='/Users/lambert/Documents/Python_code/Python_DS_code/Py_ML/ML_references/'"
   ]
  },
  {
   "cell_type": "code",
   "execution_count": 93,
   "metadata": {},
   "outputs": [],
   "source": [
    "df_train = pd.read_csv('train.csv')\n",
    "df_test = pd.read_csv('test.csv')\n",
    "\n",
    "# Age - find the median and fill to \n",
    "# may be try df_test_Age with its own median\n",
    "# fill_df_test_Age = df_test.Age.median()\n",
    "fill_df_Age = df_train.Age.median()\n",
    "df_train.Age.fillna(fill_df_Age, inplace=True)\n",
    "df_test.Age.fillna(fill_df_Age, inplace=True)\n",
    "\n",
    "# Cabin - fill nan with 'fill' and select first cabin\n",
    "df_train.Cabin.fillna('fill',inplace=True)\n",
    "df_train.Cabin = df_train.Cabin.map(lambda x:x.split(' ')[0])\n",
    "df_test.Cabin.fillna('fill', inplace=True)\n",
    "df_test.Cabin = df_train.Cabin.map(lambda x:x.split(' ')[0])\n",
    "\n",
    "# Sex - male: 1, female: 1\n",
    "df_train.Sex.replace({'male':1, 'female':0}, inplace=True)\n",
    "df_test.Sex.replace({'male':1, 'female':0}, inplace=True)\n",
    "\n",
    "df_train = df_train.dropna(axis=0, how='any')\n",
    "df_test = df_test.dropna(axis=0, how='any')\n",
    "#df_test from 892 to "
   ]
  },
  {
   "cell_type": "code",
   "execution_count": 94,
   "metadata": {},
   "outputs": [
    {
     "data": {
      "text/plain": [
       "(417, 11)"
      ]
     },
     "execution_count": 94,
     "metadata": {},
     "output_type": "execute_result"
    }
   ],
   "source": [
    "df_test.shape"
   ]
  },
  {
   "cell_type": "code",
   "execution_count": 95,
   "metadata": {},
   "outputs": [],
   "source": [
    "sFeatures = ['Pclass',\n",
    " 'Sex',\n",
    " 'Age',\n",
    " 'SibSp',\n",
    " 'Parch',\n",
    " 'Fare',             \n",
    " 'Cabin',             \n",
    " 'Embarked']\n",
    "\n",
    "X = df_train[sFeatures]\n",
    "y = df_train['Survived']"
   ]
  },
  {
   "cell_type": "code",
   "execution_count": 96,
   "metadata": {},
   "outputs": [
    {
     "data": {
      "text/plain": [
       "(889, 8)"
      ]
     },
     "execution_count": 96,
     "metadata": {},
     "output_type": "execute_result"
    }
   ],
   "source": [
    "X.shape"
   ]
  },
  {
   "cell_type": "code",
   "execution_count": 97,
   "metadata": {},
   "outputs": [
    {
     "name": "stderr",
     "output_type": "stream",
     "text": [
      "/Users/lambert/virtualenvs/tensorflow/lib/python3.6/site-packages/ipykernel_launcher.py:5: SettingWithCopyWarning: \n",
      "A value is trying to be set on a copy of a slice from a DataFrame.\n",
      "Try using .loc[row_indexer,col_indexer] = value instead\n",
      "\n",
      "See the caveats in the documentation: http://pandas.pydata.org/pandas-docs/stable/indexing.html#indexing-view-versus-copy\n",
      "  \"\"\"\n",
      "/Users/lambert/virtualenvs/tensorflow/lib/python3.6/site-packages/ipykernel_launcher.py:6: SettingWithCopyWarning: \n",
      "A value is trying to be set on a copy of a slice from a DataFrame.\n",
      "Try using .loc[row_indexer,col_indexer] = value instead\n",
      "\n",
      "See the caveats in the documentation: http://pandas.pydata.org/pandas-docs/stable/indexing.html#indexing-view-versus-copy\n",
      "  \n"
     ]
    }
   ],
   "source": [
    "# LabelEncoder categorical Cabin and Embarked\n",
    "le_Cabin = LabelEncoder().fit(np.array(X['Cabin'].tolist()))\n",
    "le_Embarked = LabelEncoder().fit(np.array(X['Embarked'].tolist()))\n",
    "\n",
    "X['Cabin'] = le_Cabin.transform(X['Cabin'])\n",
    "X['Embarked'] = le_Embarked.transform(X['Embarked'])"
   ]
  },
  {
   "cell_type": "code",
   "execution_count": 98,
   "metadata": {},
   "outputs": [],
   "source": [
    "# Validation\n",
    "X_train, X_test, y_train, y_test = train_test_split(X, y,)"
   ]
  },
  {
   "cell_type": "markdown",
   "metadata": {},
   "source": [
    "### Skip this one for validation, after validation run below 2nd run \n",
    "Select the best estimator, then re-tain with whole X\n",
    "\n",
    "Make X_test = df_test, clean df_test data"
   ]
  },
  {
   "cell_type": "code",
   "execution_count": 99,
   "metadata": {},
   "outputs": [],
   "source": [
    "# 2nd run\n",
    "# X_test = df_test[sFeatures]\n",
    "# X_test['Cabin'] = le_Cabin.transform(X_test['Cabin'])\n",
    "# X_test['Embarked'] = le_Embarked.transform(X_test['Embarked'])\n",
    "\n",
    "# X_train = X\n",
    "# y_train = y"
   ]
  },
  {
   "cell_type": "code",
   "execution_count": 100,
   "metadata": {},
   "outputs": [],
   "source": [
    "# scaler = MinMaxScaler()\n",
    "# X_train = scaler.fit_transform(X_train)\n",
    "# X_test = scaler.transform(X_test)"
   ]
  },
  {
   "cell_type": "code",
   "execution_count": 146,
   "metadata": {},
   "outputs": [
    {
     "data": {
      "text/plain": [
       "(666, 2)"
      ]
     },
     "execution_count": 146,
     "metadata": {},
     "output_type": "execute_result"
    }
   ],
   "source": [
    "# X_train.iloc[:,[1,2]].as_matrix()[:,0].max()\n",
    "X_plot.shape"
   ]
  },
  {
   "cell_type": "markdown",
   "metadata": {},
   "source": [
    "KNN"
   ]
  },
  {
   "cell_type": "code",
   "execution_count": 151,
   "metadata": {
    "scrolled": false
   },
   "outputs": [
    {
     "name": "stdout",
     "output_type": "stream",
     "text": [
      "k =  1\n",
      "knn.score =  0.672645739910314\n",
      "roc_auc_score =  0.6518005310321938\n",
      "auc from roc_auc area 0.6518005310321938\n",
      "k =  3\n",
      "knn.score =  0.7085201793721974\n",
      "roc_auc_score =  0.6871888483239296\n",
      "auc from roc_auc area 0.6871888483239296\n",
      "k =  5\n",
      "knn.score =  0.7399103139013453\n",
      "roc_auc_score =  0.713906405575838\n",
      "auc from roc_auc area 0.713906405575838\n",
      "k =  7\n",
      "knn.score =  0.7219730941704036\n",
      "roc_auc_score =  0.6954032525721872\n",
      "auc from roc_auc area 0.6954032525721872\n",
      "KNeighborsClassifier(algorithm='auto', leaf_size=30, metric='minkowski',\n",
      "           metric_params=None, n_jobs=1, n_neighbors=7, p=2,\n",
      "           weights='uniform')\n",
      "0.7503639047197735\n",
      "{'n_neighbors': 7, 'weights': 'distance'}\n"
     ]
    },
    {
     "ename": "ValueError",
     "evalue": "query data dimension must match training data dimension",
     "output_type": "error",
     "traceback": [
      "\u001b[0;31m--------------------------------------------------------------------------\u001b[0m",
      "\u001b[0;31mValueError\u001b[0m                               Traceback (most recent call last)",
      "\u001b[0;32m<ipython-input-151-165d92fa4d0a>\u001b[0m in \u001b[0;36m<module>\u001b[0;34m()\u001b[0m\n\u001b[1;32m     23\u001b[0m \u001b[0mX_plot1\u001b[0m \u001b[0;34m=\u001b[0m \u001b[0mX_train\u001b[0m\u001b[0;34m.\u001b[0m\u001b[0mas_matrix\u001b[0m\u001b[0;34m(\u001b[0m\u001b[0;34m)\u001b[0m\u001b[0;34m\u001b[0m\u001b[0m\n\u001b[1;32m     24\u001b[0m \u001b[0my_plot1\u001b[0m \u001b[0;34m=\u001b[0m \u001b[0my_train\u001b[0m\u001b[0;34m.\u001b[0m\u001b[0mas_matrix\u001b[0m\u001b[0;34m(\u001b[0m\u001b[0;34m)\u001b[0m\u001b[0;34m\u001b[0m\u001b[0m\n\u001b[0;32m---> 25\u001b[0;31m \u001b[0mplot_class_regions_for_classifier\u001b[0m\u001b[0;34m(\u001b[0m\u001b[0mknn\u001b[0m\u001b[0;34m,\u001b[0m \u001b[0mX_plot1\u001b[0m\u001b[0;34m,\u001b[0m \u001b[0my_plot1\u001b[0m\u001b[0;34m)\u001b[0m\u001b[0;34m\u001b[0m\u001b[0m\n\u001b[0m\u001b[1;32m     26\u001b[0m \u001b[0;34m\u001b[0m\u001b[0m\n\u001b[1;32m     27\u001b[0m \u001b[0;31m# plot_class_regions_for_classifier_subplot(grid_clf_search, X_test, y_test, None, None, NOne, plt.subplot(2,2))\u001b[0m\u001b[0;34m\u001b[0m\u001b[0;34m\u001b[0m\u001b[0m\n",
      "\u001b[0;32m~/Documents/Python_code/tensorflow_code/Titanic/adspy_shared_utilities.py\u001b[0m in \u001b[0;36mplot_class_regions_for_classifier\u001b[0;34m(clf, X, y, X_test, y_test, title, target_names, plot_decision_regions)\u001b[0m\n\u001b[1;32m    142\u001b[0m     \u001b[0mx2\u001b[0m\u001b[0;34m,\u001b[0m \u001b[0my2\u001b[0m \u001b[0;34m=\u001b[0m \u001b[0mnumpy\u001b[0m\u001b[0;34m.\u001b[0m\u001b[0mmeshgrid\u001b[0m\u001b[0;34m(\u001b[0m\u001b[0mnumpy\u001b[0m\u001b[0;34m.\u001b[0m\u001b[0marange\u001b[0m\u001b[0;34m(\u001b[0m\u001b[0mx_min\u001b[0m\u001b[0;34m-\u001b[0m\u001b[0mk\u001b[0m\u001b[0;34m,\u001b[0m \u001b[0mx_max\u001b[0m\u001b[0;34m+\u001b[0m\u001b[0mk\u001b[0m\u001b[0;34m,\u001b[0m \u001b[0mh\u001b[0m\u001b[0;34m)\u001b[0m\u001b[0;34m,\u001b[0m \u001b[0mnumpy\u001b[0m\u001b[0;34m.\u001b[0m\u001b[0marange\u001b[0m\u001b[0;34m(\u001b[0m\u001b[0my_min\u001b[0m\u001b[0;34m-\u001b[0m\u001b[0mk\u001b[0m\u001b[0;34m,\u001b[0m \u001b[0my_max\u001b[0m\u001b[0;34m+\u001b[0m\u001b[0mk\u001b[0m\u001b[0;34m,\u001b[0m \u001b[0mh\u001b[0m\u001b[0;34m)\u001b[0m\u001b[0;34m)\u001b[0m\u001b[0;34m\u001b[0m\u001b[0m\n\u001b[1;32m    143\u001b[0m \u001b[0;34m\u001b[0m\u001b[0m\n\u001b[0;32m--> 144\u001b[0;31m     \u001b[0mP\u001b[0m \u001b[0;34m=\u001b[0m \u001b[0mclf\u001b[0m\u001b[0;34m.\u001b[0m\u001b[0mpredict\u001b[0m\u001b[0;34m(\u001b[0m\u001b[0mnumpy\u001b[0m\u001b[0;34m.\u001b[0m\u001b[0mc_\u001b[0m\u001b[0;34m[\u001b[0m\u001b[0mx2\u001b[0m\u001b[0;34m.\u001b[0m\u001b[0mravel\u001b[0m\u001b[0;34m(\u001b[0m\u001b[0;34m)\u001b[0m\u001b[0;34m,\u001b[0m \u001b[0my2\u001b[0m\u001b[0;34m.\u001b[0m\u001b[0mravel\u001b[0m\u001b[0;34m(\u001b[0m\u001b[0;34m)\u001b[0m\u001b[0;34m]\u001b[0m\u001b[0;34m)\u001b[0m\u001b[0;34m\u001b[0m\u001b[0m\n\u001b[0m\u001b[1;32m    145\u001b[0m     \u001b[0mP\u001b[0m \u001b[0;34m=\u001b[0m \u001b[0mP\u001b[0m\u001b[0;34m.\u001b[0m\u001b[0mreshape\u001b[0m\u001b[0;34m(\u001b[0m\u001b[0mx2\u001b[0m\u001b[0;34m.\u001b[0m\u001b[0mshape\u001b[0m\u001b[0;34m)\u001b[0m\u001b[0;34m\u001b[0m\u001b[0m\n\u001b[1;32m    146\u001b[0m     \u001b[0mplt\u001b[0m\u001b[0;34m.\u001b[0m\u001b[0mfigure\u001b[0m\u001b[0;34m(\u001b[0m\u001b[0;34m)\u001b[0m\u001b[0;34m\u001b[0m\u001b[0m\n",
      "\u001b[0;32m~/virtualenvs/tensorflow/lib/python3.6/site-packages/sklearn/neighbors/classification.py\u001b[0m in \u001b[0;36mpredict\u001b[0;34m(self, X)\u001b[0m\n\u001b[1;32m    143\u001b[0m         \u001b[0mX\u001b[0m \u001b[0;34m=\u001b[0m \u001b[0mcheck_array\u001b[0m\u001b[0;34m(\u001b[0m\u001b[0mX\u001b[0m\u001b[0;34m,\u001b[0m \u001b[0maccept_sparse\u001b[0m\u001b[0;34m=\u001b[0m\u001b[0;34m'csr'\u001b[0m\u001b[0;34m)\u001b[0m\u001b[0;34m\u001b[0m\u001b[0m\n\u001b[1;32m    144\u001b[0m \u001b[0;34m\u001b[0m\u001b[0m\n\u001b[0;32m--> 145\u001b[0;31m         \u001b[0mneigh_dist\u001b[0m\u001b[0;34m,\u001b[0m \u001b[0mneigh_ind\u001b[0m \u001b[0;34m=\u001b[0m \u001b[0mself\u001b[0m\u001b[0;34m.\u001b[0m\u001b[0mkneighbors\u001b[0m\u001b[0;34m(\u001b[0m\u001b[0mX\u001b[0m\u001b[0;34m)\u001b[0m\u001b[0;34m\u001b[0m\u001b[0m\n\u001b[0m\u001b[1;32m    146\u001b[0m \u001b[0;34m\u001b[0m\u001b[0m\n\u001b[1;32m    147\u001b[0m         \u001b[0mclasses_\u001b[0m \u001b[0;34m=\u001b[0m \u001b[0mself\u001b[0m\u001b[0;34m.\u001b[0m\u001b[0mclasses_\u001b[0m\u001b[0;34m\u001b[0m\u001b[0m\n",
      "\u001b[0;32m~/virtualenvs/tensorflow/lib/python3.6/site-packages/sklearn/neighbors/base.py\u001b[0m in \u001b[0;36mkneighbors\u001b[0;34m(self, X, n_neighbors, return_distance)\u001b[0m\n\u001b[1;32m    383\u001b[0m                 delayed(self._tree.query, check_pickle=False)(\n\u001b[1;32m    384\u001b[0m                     X[s], n_neighbors, return_distance)\n\u001b[0;32m--> 385\u001b[0;31m                 \u001b[0;32mfor\u001b[0m \u001b[0ms\u001b[0m \u001b[0;32min\u001b[0m \u001b[0mgen_even_slices\u001b[0m\u001b[0;34m(\u001b[0m\u001b[0mX\u001b[0m\u001b[0;34m.\u001b[0m\u001b[0mshape\u001b[0m\u001b[0;34m[\u001b[0m\u001b[0;36m0\u001b[0m\u001b[0;34m]\u001b[0m\u001b[0;34m,\u001b[0m \u001b[0mn_jobs\u001b[0m\u001b[0;34m)\u001b[0m\u001b[0;34m\u001b[0m\u001b[0m\n\u001b[0m\u001b[1;32m    386\u001b[0m             )\n\u001b[1;32m    387\u001b[0m             \u001b[0;32mif\u001b[0m \u001b[0mreturn_distance\u001b[0m\u001b[0;34m:\u001b[0m\u001b[0;34m\u001b[0m\u001b[0m\n",
      "\u001b[0;32m~/virtualenvs/tensorflow/lib/python3.6/site-packages/sklearn/externals/joblib/parallel.py\u001b[0m in \u001b[0;36m__call__\u001b[0;34m(self, iterable)\u001b[0m\n\u001b[1;32m    777\u001b[0m             \u001b[0;31m# was dispatched. In particular this covers the edge\u001b[0m\u001b[0;34m\u001b[0m\u001b[0;34m\u001b[0m\u001b[0m\n\u001b[1;32m    778\u001b[0m             \u001b[0;31m# case of Parallel used with an exhausted iterator.\u001b[0m\u001b[0;34m\u001b[0m\u001b[0;34m\u001b[0m\u001b[0m\n\u001b[0;32m--> 779\u001b[0;31m             \u001b[0;32mwhile\u001b[0m \u001b[0mself\u001b[0m\u001b[0;34m.\u001b[0m\u001b[0mdispatch_one_batch\u001b[0m\u001b[0;34m(\u001b[0m\u001b[0miterator\u001b[0m\u001b[0;34m)\u001b[0m\u001b[0;34m:\u001b[0m\u001b[0;34m\u001b[0m\u001b[0m\n\u001b[0m\u001b[1;32m    780\u001b[0m                 \u001b[0mself\u001b[0m\u001b[0;34m.\u001b[0m\u001b[0m_iterating\u001b[0m \u001b[0;34m=\u001b[0m \u001b[0;32mTrue\u001b[0m\u001b[0;34m\u001b[0m\u001b[0m\n\u001b[1;32m    781\u001b[0m             \u001b[0;32melse\u001b[0m\u001b[0;34m:\u001b[0m\u001b[0;34m\u001b[0m\u001b[0m\n",
      "\u001b[0;32m~/virtualenvs/tensorflow/lib/python3.6/site-packages/sklearn/externals/joblib/parallel.py\u001b[0m in \u001b[0;36mdispatch_one_batch\u001b[0;34m(self, iterator)\u001b[0m\n\u001b[1;32m    623\u001b[0m                 \u001b[0;32mreturn\u001b[0m \u001b[0;32mFalse\u001b[0m\u001b[0;34m\u001b[0m\u001b[0m\n\u001b[1;32m    624\u001b[0m             \u001b[0;32melse\u001b[0m\u001b[0;34m:\u001b[0m\u001b[0;34m\u001b[0m\u001b[0m\n\u001b[0;32m--> 625\u001b[0;31m                 \u001b[0mself\u001b[0m\u001b[0;34m.\u001b[0m\u001b[0m_dispatch\u001b[0m\u001b[0;34m(\u001b[0m\u001b[0mtasks\u001b[0m\u001b[0;34m)\u001b[0m\u001b[0;34m\u001b[0m\u001b[0m\n\u001b[0m\u001b[1;32m    626\u001b[0m                 \u001b[0;32mreturn\u001b[0m \u001b[0;32mTrue\u001b[0m\u001b[0;34m\u001b[0m\u001b[0m\n\u001b[1;32m    627\u001b[0m \u001b[0;34m\u001b[0m\u001b[0m\n",
      "\u001b[0;32m~/virtualenvs/tensorflow/lib/python3.6/site-packages/sklearn/externals/joblib/parallel.py\u001b[0m in \u001b[0;36m_dispatch\u001b[0;34m(self, batch)\u001b[0m\n\u001b[1;32m    586\u001b[0m         \u001b[0mdispatch_timestamp\u001b[0m \u001b[0;34m=\u001b[0m \u001b[0mtime\u001b[0m\u001b[0;34m.\u001b[0m\u001b[0mtime\u001b[0m\u001b[0;34m(\u001b[0m\u001b[0;34m)\u001b[0m\u001b[0;34m\u001b[0m\u001b[0m\n\u001b[1;32m    587\u001b[0m         \u001b[0mcb\u001b[0m \u001b[0;34m=\u001b[0m \u001b[0mBatchCompletionCallBack\u001b[0m\u001b[0;34m(\u001b[0m\u001b[0mdispatch_timestamp\u001b[0m\u001b[0;34m,\u001b[0m \u001b[0mlen\u001b[0m\u001b[0;34m(\u001b[0m\u001b[0mbatch\u001b[0m\u001b[0;34m)\u001b[0m\u001b[0;34m,\u001b[0m \u001b[0mself\u001b[0m\u001b[0;34m)\u001b[0m\u001b[0;34m\u001b[0m\u001b[0m\n\u001b[0;32m--> 588\u001b[0;31m         \u001b[0mjob\u001b[0m \u001b[0;34m=\u001b[0m \u001b[0mself\u001b[0m\u001b[0;34m.\u001b[0m\u001b[0m_backend\u001b[0m\u001b[0;34m.\u001b[0m\u001b[0mapply_async\u001b[0m\u001b[0;34m(\u001b[0m\u001b[0mbatch\u001b[0m\u001b[0;34m,\u001b[0m \u001b[0mcallback\u001b[0m\u001b[0;34m=\u001b[0m\u001b[0mcb\u001b[0m\u001b[0;34m)\u001b[0m\u001b[0;34m\u001b[0m\u001b[0m\n\u001b[0m\u001b[1;32m    589\u001b[0m         \u001b[0mself\u001b[0m\u001b[0;34m.\u001b[0m\u001b[0m_jobs\u001b[0m\u001b[0;34m.\u001b[0m\u001b[0mappend\u001b[0m\u001b[0;34m(\u001b[0m\u001b[0mjob\u001b[0m\u001b[0;34m)\u001b[0m\u001b[0;34m\u001b[0m\u001b[0m\n\u001b[1;32m    590\u001b[0m \u001b[0;34m\u001b[0m\u001b[0m\n",
      "\u001b[0;32m~/virtualenvs/tensorflow/lib/python3.6/site-packages/sklearn/externals/joblib/_parallel_backends.py\u001b[0m in \u001b[0;36mapply_async\u001b[0;34m(self, func, callback)\u001b[0m\n\u001b[1;32m    109\u001b[0m     \u001b[0;32mdef\u001b[0m \u001b[0mapply_async\u001b[0m\u001b[0;34m(\u001b[0m\u001b[0mself\u001b[0m\u001b[0;34m,\u001b[0m \u001b[0mfunc\u001b[0m\u001b[0;34m,\u001b[0m \u001b[0mcallback\u001b[0m\u001b[0;34m=\u001b[0m\u001b[0;32mNone\u001b[0m\u001b[0;34m)\u001b[0m\u001b[0;34m:\u001b[0m\u001b[0;34m\u001b[0m\u001b[0m\n\u001b[1;32m    110\u001b[0m         \u001b[0;34m\"\"\"Schedule a func to be run\"\"\"\u001b[0m\u001b[0;34m\u001b[0m\u001b[0m\n\u001b[0;32m--> 111\u001b[0;31m         \u001b[0mresult\u001b[0m \u001b[0;34m=\u001b[0m \u001b[0mImmediateResult\u001b[0m\u001b[0;34m(\u001b[0m\u001b[0mfunc\u001b[0m\u001b[0;34m)\u001b[0m\u001b[0;34m\u001b[0m\u001b[0m\n\u001b[0m\u001b[1;32m    112\u001b[0m         \u001b[0;32mif\u001b[0m \u001b[0mcallback\u001b[0m\u001b[0;34m:\u001b[0m\u001b[0;34m\u001b[0m\u001b[0m\n\u001b[1;32m    113\u001b[0m             \u001b[0mcallback\u001b[0m\u001b[0;34m(\u001b[0m\u001b[0mresult\u001b[0m\u001b[0;34m)\u001b[0m\u001b[0;34m\u001b[0m\u001b[0m\n",
      "\u001b[0;32m~/virtualenvs/tensorflow/lib/python3.6/site-packages/sklearn/externals/joblib/_parallel_backends.py\u001b[0m in \u001b[0;36m__init__\u001b[0;34m(self, batch)\u001b[0m\n\u001b[1;32m    330\u001b[0m         \u001b[0;31m# Don't delay the application, to avoid keeping the input\u001b[0m\u001b[0;34m\u001b[0m\u001b[0;34m\u001b[0m\u001b[0m\n\u001b[1;32m    331\u001b[0m         \u001b[0;31m# arguments in memory\u001b[0m\u001b[0;34m\u001b[0m\u001b[0;34m\u001b[0m\u001b[0m\n\u001b[0;32m--> 332\u001b[0;31m         \u001b[0mself\u001b[0m\u001b[0;34m.\u001b[0m\u001b[0mresults\u001b[0m \u001b[0;34m=\u001b[0m \u001b[0mbatch\u001b[0m\u001b[0;34m(\u001b[0m\u001b[0;34m)\u001b[0m\u001b[0;34m\u001b[0m\u001b[0m\n\u001b[0m\u001b[1;32m    333\u001b[0m \u001b[0;34m\u001b[0m\u001b[0m\n\u001b[1;32m    334\u001b[0m     \u001b[0;32mdef\u001b[0m \u001b[0mget\u001b[0m\u001b[0;34m(\u001b[0m\u001b[0mself\u001b[0m\u001b[0;34m)\u001b[0m\u001b[0;34m:\u001b[0m\u001b[0;34m\u001b[0m\u001b[0m\n",
      "\u001b[0;32m~/virtualenvs/tensorflow/lib/python3.6/site-packages/sklearn/externals/joblib/parallel.py\u001b[0m in \u001b[0;36m__call__\u001b[0;34m(self)\u001b[0m\n\u001b[1;32m    129\u001b[0m \u001b[0;34m\u001b[0m\u001b[0m\n\u001b[1;32m    130\u001b[0m     \u001b[0;32mdef\u001b[0m \u001b[0m__call__\u001b[0m\u001b[0;34m(\u001b[0m\u001b[0mself\u001b[0m\u001b[0;34m)\u001b[0m\u001b[0;34m:\u001b[0m\u001b[0;34m\u001b[0m\u001b[0m\n\u001b[0;32m--> 131\u001b[0;31m         \u001b[0;32mreturn\u001b[0m \u001b[0;34m[\u001b[0m\u001b[0mfunc\u001b[0m\u001b[0;34m(\u001b[0m\u001b[0;34m*\u001b[0m\u001b[0margs\u001b[0m\u001b[0;34m,\u001b[0m \u001b[0;34m**\u001b[0m\u001b[0mkwargs\u001b[0m\u001b[0;34m)\u001b[0m \u001b[0;32mfor\u001b[0m \u001b[0mfunc\u001b[0m\u001b[0;34m,\u001b[0m \u001b[0margs\u001b[0m\u001b[0;34m,\u001b[0m \u001b[0mkwargs\u001b[0m \u001b[0;32min\u001b[0m \u001b[0mself\u001b[0m\u001b[0;34m.\u001b[0m\u001b[0mitems\u001b[0m\u001b[0;34m]\u001b[0m\u001b[0;34m\u001b[0m\u001b[0m\n\u001b[0m\u001b[1;32m    132\u001b[0m \u001b[0;34m\u001b[0m\u001b[0m\n\u001b[1;32m    133\u001b[0m     \u001b[0;32mdef\u001b[0m \u001b[0m__len__\u001b[0m\u001b[0;34m(\u001b[0m\u001b[0mself\u001b[0m\u001b[0;34m)\u001b[0m\u001b[0;34m:\u001b[0m\u001b[0;34m\u001b[0m\u001b[0m\n",
      "\u001b[0;32m~/virtualenvs/tensorflow/lib/python3.6/site-packages/sklearn/externals/joblib/parallel.py\u001b[0m in \u001b[0;36m<listcomp>\u001b[0;34m(.0)\u001b[0m\n\u001b[1;32m    129\u001b[0m \u001b[0;34m\u001b[0m\u001b[0m\n\u001b[1;32m    130\u001b[0m     \u001b[0;32mdef\u001b[0m \u001b[0m__call__\u001b[0m\u001b[0;34m(\u001b[0m\u001b[0mself\u001b[0m\u001b[0;34m)\u001b[0m\u001b[0;34m:\u001b[0m\u001b[0;34m\u001b[0m\u001b[0m\n\u001b[0;32m--> 131\u001b[0;31m         \u001b[0;32mreturn\u001b[0m \u001b[0;34m[\u001b[0m\u001b[0mfunc\u001b[0m\u001b[0;34m(\u001b[0m\u001b[0;34m*\u001b[0m\u001b[0margs\u001b[0m\u001b[0;34m,\u001b[0m \u001b[0;34m**\u001b[0m\u001b[0mkwargs\u001b[0m\u001b[0;34m)\u001b[0m \u001b[0;32mfor\u001b[0m \u001b[0mfunc\u001b[0m\u001b[0;34m,\u001b[0m \u001b[0margs\u001b[0m\u001b[0;34m,\u001b[0m \u001b[0mkwargs\u001b[0m \u001b[0;32min\u001b[0m \u001b[0mself\u001b[0m\u001b[0;34m.\u001b[0m\u001b[0mitems\u001b[0m\u001b[0;34m]\u001b[0m\u001b[0;34m\u001b[0m\u001b[0m\n\u001b[0m\u001b[1;32m    132\u001b[0m \u001b[0;34m\u001b[0m\u001b[0m\n\u001b[1;32m    133\u001b[0m     \u001b[0;32mdef\u001b[0m \u001b[0m__len__\u001b[0m\u001b[0;34m(\u001b[0m\u001b[0mself\u001b[0m\u001b[0;34m)\u001b[0m\u001b[0;34m:\u001b[0m\u001b[0;34m\u001b[0m\u001b[0m\n",
      "\u001b[0;32msklearn/neighbors/binary_tree.pxi\u001b[0m in \u001b[0;36msklearn.neighbors.kd_tree.BinaryTree.query\u001b[0;34m()\u001b[0m\n",
      "\u001b[0;31mValueError\u001b[0m: query data dimension must match training data dimension"
     ]
    }
   ],
   "source": [
    "for i in [1,3,5,7]:\n",
    "    knn = KNeighborsClassifier(n_neighbors=i)\n",
    "    knn.fit(X_train, y_train)\n",
    "    score = knn.score(X_test,y_test)\n",
    "    yp=knn.predict(X_test)\n",
    "    fpr, tpr, _ = roc_curve(y_test,yp)\n",
    "    roc_score = roc_auc_score(y_test,yp) # caculate the score\n",
    "    roc_auc=auc(fpr,tpr) #caculate the area\n",
    "    print('k = ',i)\n",
    "    print('knn.score = ',score)\n",
    "    print('roc_auc_score = ',roc_score)\n",
    "    print('auc from roc_auc area', roc_auc)\n",
    "# plot_roc_auc(tpr, fpr, roc_auc)\n",
    "# GridSearchCV\n",
    "grid_values = {'n_neighbors':[1,3,5,7],'weights':['uniform','distance']}\n",
    "grid_clf_search = GridSearchCV(knn, param_grid=grid_values, scoring= 'roc_auc')\n",
    "#cv default=3, K-fold\n",
    "grid_clf_search.fit(X_train, y_train)\n",
    "print(grid_clf_search.estimator)\n",
    "print(grid_clf_search.best_score_)\n",
    "print(grid_clf_search.best_params_)"
   ]
  },
  {
   "cell_type": "code",
   "execution_count": 154,
   "metadata": {},
   "outputs": [
    {
     "ename": "ValueError",
     "evalue": "Found array with dim 3. Estimator expected <= 2.",
     "output_type": "error",
     "traceback": [
      "\u001b[0;31m--------------------------------------------------------------------------\u001b[0m",
      "\u001b[0;31mValueError\u001b[0m                               Traceback (most recent call last)",
      "\u001b[0;32m<ipython-input-154-d2fe8f7d3729>\u001b[0m in \u001b[0;36m<module>\u001b[0;34m()\u001b[0m\n\u001b[0;32m----> 1\u001b[0;31m \u001b[0mknn\u001b[0m\u001b[0;34m.\u001b[0m\u001b[0mpredict\u001b[0m\u001b[0;34m(\u001b[0m\u001b[0;34m[\u001b[0m\u001b[0mX_plot1\u001b[0m\u001b[0;34m,\u001b[0m\u001b[0mX_plot1\u001b[0m\u001b[0;34m]\u001b[0m\u001b[0;34m)\u001b[0m\u001b[0;34m\u001b[0m\u001b[0m\n\u001b[0m",
      "\u001b[0;32m~/virtualenvs/tensorflow/lib/python3.6/site-packages/sklearn/neighbors/classification.py\u001b[0m in \u001b[0;36mpredict\u001b[0;34m(self, X)\u001b[0m\n\u001b[1;32m    141\u001b[0m             \u001b[0mClass\u001b[0m \u001b[0mlabels\u001b[0m \u001b[0;32mfor\u001b[0m \u001b[0meach\u001b[0m \u001b[0mdata\u001b[0m \u001b[0msample\u001b[0m\u001b[0;34m.\u001b[0m\u001b[0;34m\u001b[0m\u001b[0m\n\u001b[1;32m    142\u001b[0m         \"\"\"\n\u001b[0;32m--> 143\u001b[0;31m         \u001b[0mX\u001b[0m \u001b[0;34m=\u001b[0m \u001b[0mcheck_array\u001b[0m\u001b[0;34m(\u001b[0m\u001b[0mX\u001b[0m\u001b[0;34m,\u001b[0m \u001b[0maccept_sparse\u001b[0m\u001b[0;34m=\u001b[0m\u001b[0;34m'csr'\u001b[0m\u001b[0;34m)\u001b[0m\u001b[0;34m\u001b[0m\u001b[0m\n\u001b[0m\u001b[1;32m    144\u001b[0m \u001b[0;34m\u001b[0m\u001b[0m\n\u001b[1;32m    145\u001b[0m         \u001b[0mneigh_dist\u001b[0m\u001b[0;34m,\u001b[0m \u001b[0mneigh_ind\u001b[0m \u001b[0;34m=\u001b[0m \u001b[0mself\u001b[0m\u001b[0;34m.\u001b[0m\u001b[0mkneighbors\u001b[0m\u001b[0;34m(\u001b[0m\u001b[0mX\u001b[0m\u001b[0;34m)\u001b[0m\u001b[0;34m\u001b[0m\u001b[0m\n",
      "\u001b[0;32m~/virtualenvs/tensorflow/lib/python3.6/site-packages/sklearn/utils/validation.py\u001b[0m in \u001b[0;36mcheck_array\u001b[0;34m(array, accept_sparse, dtype, order, copy, force_all_finite, ensure_2d, allow_nd, ensure_min_samples, ensure_min_features, warn_on_dtype, estimator)\u001b[0m\n\u001b[1;32m    449\u001b[0m         \u001b[0;32mif\u001b[0m \u001b[0;32mnot\u001b[0m \u001b[0mallow_nd\u001b[0m \u001b[0;32mand\u001b[0m \u001b[0marray\u001b[0m\u001b[0;34m.\u001b[0m\u001b[0mndim\u001b[0m \u001b[0;34m>=\u001b[0m \u001b[0;36m3\u001b[0m\u001b[0;34m:\u001b[0m\u001b[0;34m\u001b[0m\u001b[0m\n\u001b[1;32m    450\u001b[0m             raise ValueError(\"Found array with dim %d. %s expected <= 2.\"\n\u001b[0;32m--> 451\u001b[0;31m                              % (array.ndim, estimator_name))\n\u001b[0m\u001b[1;32m    452\u001b[0m         \u001b[0;32mif\u001b[0m \u001b[0mforce_all_finite\u001b[0m\u001b[0;34m:\u001b[0m\u001b[0;34m\u001b[0m\u001b[0m\n\u001b[1;32m    453\u001b[0m             \u001b[0m_assert_all_finite\u001b[0m\u001b[0;34m(\u001b[0m\u001b[0marray\u001b[0m\u001b[0;34m)\u001b[0m\u001b[0;34m\u001b[0m\u001b[0m\n",
      "\u001b[0;31mValueError\u001b[0m: Found array with dim 3. Estimator expected <= 2."
     ]
    }
   ],
   "source": [
    "knn.predict([X_plot1,X_plot1])"
   ]
  },
  {
   "cell_type": "markdown",
   "metadata": {},
   "source": [
    "Decision Tree"
   ]
  },
  {
   "cell_type": "code",
   "execution_count": 66,
   "metadata": {},
   "outputs": [
    {
     "name": "stdout",
     "output_type": "stream",
     "text": [
      "Max_depth =  100\n",
      "score =  0.7309417040358744\n",
      "roc =  0.7831122900088417\n",
      "Max_depth =  200\n",
      "score =  0.7309417040358744\n",
      "roc =  0.7767020335985855\n",
      "Max_depth =  300\n",
      "score =  0.7309417040358744\n",
      "roc =  0.7737400530503977\n",
      "DecisionTreeClassifier(class_weight=None, criterion='gini', max_depth=300,\n",
      "            max_features=None, max_leaf_nodes=None,\n",
      "            min_impurity_decrease=0.0, min_impurity_split=None,\n",
      "            min_samples_leaf=1, min_samples_split=2,\n",
      "            min_weight_fraction_leaf=0.0, presort=False, random_state=None,\n",
      "            splitter='best')\n",
      "0.7545051573951613\n",
      "{'max_depth': 100}\n"
     ]
    }
   ],
   "source": [
    "# Decision Tree\n",
    "for i in [100,200,300]:\n",
    "    dt = DecisionTreeClassifier(max_depth = i).fit(X_train, y_train)\n",
    "    dt.score(X_test,y_test)\n",
    "    yp = dt.predict(X_test)\n",
    "    fpr, tpr, _ = roc_curve(y_test,yp)\n",
    "    roc_auc=auc(fpr,tpr)\n",
    "    print('Max_depth = ',i)\n",
    "    print('score = ',score)\n",
    "    print('roc = ',roc_auc)\n",
    "# GridSearchCV\n",
    "grid_values = {'max_depth':[100,200,300]}\n",
    "grid_clf_search = GridSearchCV(dt, param_grid=grid_values, scoring= 'roc_auc')\n",
    "grid_clf_search.fit(X_train, y_train)\n",
    "print(grid_clf_search.estimator)\n",
    "print(grid_clf_search.best_score_)\n",
    "print(grid_clf_search.best_params_)"
   ]
  },
  {
   "cell_type": "markdown",
   "metadata": {},
   "source": [
    "Logistic Regression"
   ]
  },
  {
   "cell_type": "code",
   "execution_count": 67,
   "metadata": {},
   "outputs": [
    {
     "name": "stdout",
     "output_type": "stream",
     "text": [
      "C =  0.1\n",
      "score =  0.7309417040358744\n",
      "roc =  0.7579575596816975\n",
      "C =  1\n",
      "score =  0.7309417040358744\n",
      "roc =  0.7614058355437665\n",
      "C =  100\n",
      "score =  0.7309417040358744\n",
      "roc =  0.7707780725022103\n",
      "LogisticRegression(C=100, class_weight=None, dual=False, fit_intercept=True,\n",
      "          intercept_scaling=1, max_iter=100, multi_class='ovr', n_jobs=1,\n",
      "          penalty='l2', random_state=None, solver='liblinear', tol=0.0001,\n",
      "          verbose=0, warm_start=False)\n",
      "0.8571533720240617\n",
      "{'C': 1, 'max_iter': 100, 'solver': 'lbfgs'}\n"
     ]
    }
   ],
   "source": [
    "# Logistic Regression\n",
    "for i in [0.1,1,100]:\n",
    "    lr = LogisticRegression(C=i).fit(X_train, y_train)\n",
    "    lr.score(X_test,y_test)\n",
    "    yp = lr.predict(X_test)\n",
    "    fpr, tpr, _ = roc_curve(y_test,yp)\n",
    "    roc_auc=auc(fpr,tpr)\n",
    "    print('C = ',i)\n",
    "    print('score = ',score)\n",
    "    print('roc = ',roc_auc)\n",
    "\n",
    "# Logistic Regression with GridSearchCV\n",
    "# grid_values = {'n_estimators':[20, 30, 40], 'max_features':[2,3]}\n",
    "grid_values = {'C':[0.1,1,10,100], 'solver':['lbfgs','liblinear','newton-cg'],\n",
    "               'max_iter':[100,1000,10000]}\n",
    "grid_clf_search = GridSearchCV(lr, param_grid=grid_values, scoring= 'roc_auc')\n",
    "grid_clf_search.fit(X_train, y_train)\n",
    "print(grid_clf_search.estimator)\n",
    "print(grid_clf_search.best_score_)\n",
    "print(grid_clf_search.best_params_)"
   ]
  },
  {
   "cell_type": "code",
   "execution_count": 68,
   "metadata": {},
   "outputs": [
    {
     "data": {
      "text/plain": [
       "{'C': 1, 'max_iter': 100, 'solver': 'lbfgs'}"
      ]
     },
     "execution_count": 68,
     "metadata": {},
     "output_type": "execute_result"
    }
   ],
   "source": [
    "grid_clf_search.best_params_"
   ]
  },
  {
   "cell_type": "markdown",
   "metadata": {},
   "source": [
    "Gradient Boosting Classifier"
   ]
  },
  {
   "cell_type": "code",
   "execution_count": 69,
   "metadata": {
    "scrolled": true
   },
   "outputs": [
    {
     "name": "stdout",
     "output_type": "stream",
     "text": [
      "features Index(['Pclass', 'Sex', 'Age', 'SibSp', 'Parch', 'Fare', 'Cabin', 'Embarked'], dtype='object')\n",
      "n_estimators: 100\n",
      "max_depth: 3\n",
      "X_train score =  0.8993993993993994\n",
      "feature_importances =  ['Fare' 'Age' 'Sex' 'Cabin' 'SibSp' 'Pclass' 'Embarked' 'Parch']\n",
      "roc_auc =  0.8882359610006803\n",
      "n_estimators: 100\n",
      "max_depth: 4\n",
      "X_train score =  0.93993993993994\n",
      "feature_importances =  ['Fare' 'Age' 'Sex' 'Cabin' 'Embarked' 'SibSp' 'Pclass' 'Parch']\n",
      "roc_auc =  0.9303718539792911\n",
      "n_estimators: 100\n",
      "max_depth: 5\n",
      "X_train score =  0.96996996996997\n",
      "feature_importances =  ['Fare' 'Age' 'Sex' 'Cabin' 'SibSp' 'Pclass' 'Embarked' 'Parch']\n",
      "roc_auc =  0.9638443806212682\n",
      "n_estimators: 200\n",
      "max_depth: 3\n",
      "X_train score =  0.933933933933934\n",
      "feature_importances =  ['Fare' 'Age' 'Cabin' 'Sex' 'SibSp' 'Embarked' 'Pclass' 'Parch']\n",
      "roc_auc =  0.9260921321139747\n",
      "n_estimators: 200\n",
      "max_depth: 4\n",
      "X_train score =  0.96996996996997\n",
      "feature_importances =  ['Fare' 'Age' 'Cabin' 'Sex' 'SibSp' 'Embarked' 'Pclass' 'Parch']\n",
      "roc_auc =  0.9638443806212682\n",
      "n_estimators: 200\n",
      "max_depth: 5\n",
      "X_train score =  0.9834834834834835\n",
      "feature_importances =  ['Fare' 'Age' 'Cabin' 'Sex' 'SibSp' 'Pclass' 'Embarked' 'Parch']\n",
      "roc_auc =  0.9810199531403522\n",
      "n_estimators: 300\n",
      "max_depth: 3\n",
      "X_train score =  0.9519519519519519\n",
      "feature_importances =  ['Fare' 'Age' 'Cabin' 'Sex' 'SibSp' 'Embarked' 'Pclass' 'Parch']\n",
      "roc_auc =  0.9456390295518101\n",
      "n_estimators: 300\n",
      "max_depth: 4\n",
      "X_train score =  0.9804804804804805\n",
      "feature_importances =  ['Fare' 'Age' 'Cabin' 'Sex' 'SibSp' 'Pclass' 'Parch' 'Embarked']\n",
      "roc_auc =  0.9778739324314111\n",
      "n_estimators: 300\n",
      "max_depth: 5\n",
      "X_train score =  0.9834834834834835\n",
      "feature_importances =  ['Fare' 'Age' 'Cabin' 'Sex' 'SibSp' 'Pclass' 'Embarked' 'Parch']\n",
      "roc_auc =  0.9810199531403522\n",
      "GradientBoostingClassifier(criterion='friedman_mse', init=None,\n",
      "              learning_rate=0.1, loss='deviance', max_depth=5,\n",
      "              max_features=None, max_leaf_nodes=None,\n",
      "              min_impurity_decrease=0.0, min_impurity_split=None,\n",
      "              min_samples_leaf=1, min_samples_split=2,\n",
      "              min_weight_fraction_leaf=0.0, n_estimators=300,\n",
      "              presort='auto', random_state=None, subsample=1.0, verbose=0,\n",
      "              warm_start=False)\n",
      "Best score: 0.8399976018871484\n",
      "Best params: {'max_depth': 300}\n",
      "feature_importances =  ['Fare' 'Age' 'Cabin' 'Sex' 'SibSp' 'Pclass' 'Embarked' 'Parch']\n"
     ]
    }
   ],
   "source": [
    "# Gradient Boosting Classifier\n",
    "print('features', X_train.columns)\n",
    "for e in [100,200,300]:\n",
    "    for m in [3,4,5]:\n",
    "        gbdt = GradientBoostingClassifier(n_estimators=e, max_depth=m).fit(X_train, y_train)\n",
    "        score = gbdt.score(X_train, y_train)\n",
    "        yp_X = gbdt.predict(X_train)\n",
    "        aucscore = roc_auc_score(y_train,yp_X)\n",
    "        yp_Xt = gbdt.predict_proba(X_test)\n",
    "        print('n_estimators:', e)\n",
    "        print('max_depth:', m)\n",
    "        print('X_train score = ',score)\n",
    "#         print('feature_importances = ', gbdt.feature_importances_)\n",
    "        print('feature_importances = ', \n",
    "              X_train.columns[np.argsort(-gbdt.feature_importances_)].values)\n",
    "        print('roc_auc = ',aucscore)\n",
    "#         print('yp_X', yp_X[0:10])\n",
    "#         print('yp_Xt', yp_Xt[0:10])\n",
    "# GridSearchCV\n",
    "grid_values = {'max_depth':[100,200,300]}\n",
    "grid_clf_search = GridSearchCV(gbdt, param_grid=grid_values, scoring= 'roc_auc')\n",
    "grid_clf_search.fit(X_train, y_train)\n",
    "print(grid_clf_search.estimator)\n",
    "print('Best score:',grid_clf_search.best_score_)\n",
    "print('Best params:', grid_clf_search.best_params_)\n",
    "print('feature_importances = ', \n",
    "      X_train.columns[np.argsort(-gbdt.feature_importances_)].values)"
   ]
  },
  {
   "cell_type": "markdown",
   "metadata": {},
   "source": [
    "Random forests"
   ]
  },
  {
   "cell_type": "code",
   "execution_count": 70,
   "metadata": {},
   "outputs": [
    {
     "name": "stdout",
     "output_type": "stream",
     "text": [
      "features Index(['Pclass', 'Sex', 'Age', 'SibSp', 'Parch', 'Fare', 'Cabin', 'Embarked'], dtype='object')\n",
      "n_estimators: 10\n",
      "max_depth: 1\n",
      "X_train score =  0.6771771771771772\n",
      "feature_importances =  ['Age' 'Fare' 'Pclass' 'Sex' 'Embarked' 'SibSp' 'Parch' 'Cabin']\n",
      "roc_auc =  0.5903654296727383\n",
      "n_estimators: 10\n",
      "max_depth: 2\n",
      "X_train score =  0.8048048048048048\n",
      "feature_importances =  ['Sex' 'Fare' 'Pclass' 'Cabin' 'Embarked' 'SibSp' 'Age' 'Parch']\n",
      "roc_auc =  0.7740439120247903\n",
      "n_estimators: 10\n",
      "max_depth: 3\n",
      "X_train score =  0.8198198198198198\n",
      "feature_importances =  ['Sex' 'Fare' 'Cabin' 'Pclass' 'Age' 'Parch' 'SibSp' 'Embarked']\n",
      "roc_auc =  0.7964817474113823\n",
      "n_estimators: 100\n",
      "max_depth: 1\n",
      "X_train score =  0.7492492492492493\n",
      "feature_importances =  ['Sex' 'Cabin' 'Fare' 'Pclass' 'Age' 'Embarked' 'SibSp' 'Parch']\n",
      "roc_auc =  0.6880054417655506\n",
      "n_estimators: 100\n",
      "max_depth: 2\n",
      "X_train score =  0.7822822822822822\n",
      "feature_importances =  ['Sex' 'Fare' 'Cabin' 'Pclass' 'Age' 'SibSp' 'Embarked' 'Parch']\n",
      "roc_auc =  0.7454179578263169\n",
      "n_estimators: 100\n",
      "max_depth: 3\n",
      "X_train score =  0.8393393393393394\n",
      "feature_importances =  ['Sex' 'Cabin' 'Fare' 'Pclass' 'Age' 'SibSp' 'Embarked' 'Parch']\n",
      "roc_auc =  0.8145831758748393\n",
      "n_estimators: 200\n",
      "max_depth: 1\n",
      "X_train score =  0.7327327327327328\n",
      "feature_importances =  ['Sex' 'Cabin' 'Fare' 'Pclass' 'Embarked' 'Age' 'SibSp' 'Parch']\n",
      "roc_auc =  0.6643299826165823\n",
      "n_estimators: 200\n",
      "max_depth: 2\n",
      "X_train score =  0.7942942942942943\n",
      "feature_importances =  ['Sex' 'Fare' 'Cabin' 'Pclass' 'Age' 'Embarked' 'Parch' 'SibSp']\n",
      "roc_auc =  0.7533066283727609\n",
      "n_estimators: 200\n",
      "max_depth: 3\n",
      "X_train score =  0.8228228228228228\n",
      "feature_importances =  ['Sex' 'Fare' 'Cabin' 'Pclass' 'Age' 'SibSp' 'Embarked' 'Parch']\n",
      "roc_auc =  0.7942615826468145\n",
      "RandomForestClassifier(bootstrap=True, class_weight=None, criterion='gini',\n",
      "            max_depth=3, max_features='auto', max_leaf_nodes=None,\n",
      "            min_impurity_decrease=0.0, min_impurity_split=None,\n",
      "            min_samples_leaf=1, min_samples_split=2,\n",
      "            min_weight_fraction_leaf=0.0, n_estimators=200, n_jobs=1,\n",
      "            oob_score=False, random_state=None, verbose=0,\n",
      "            warm_start=False)\n",
      "0.8581754351072274\n",
      "{'max_depth': 3, 'n_estimators': 200}\n",
      "feature_importances =  ['Sex' 'Fare' 'Cabin' 'Pclass' 'Age' 'SibSp' 'Embarked' 'Parch']\n"
     ]
    }
   ],
   "source": [
    "# RandomForest\n",
    "print('features', X_train.columns)\n",
    "for e in [10,100,200]:\n",
    "    for m in [1,2,3]:\n",
    "        rfc = RandomForestClassifier(n_estimators=e, max_depth=m).fit(X_train, y_train)\n",
    "        score = rfc.score(X_train, y_train)\n",
    "        yp_X = rfc.predict(X_train)\n",
    "        aucscore = roc_auc_score(y_train,yp_X)\n",
    "        yp_Xt = rfc.predict_proba(X_test)\n",
    "        print('n_estimators:', e)\n",
    "        print('max_depth:', m)\n",
    "        print('X_train score = ',score)\n",
    "        print('feature_importances = ', \n",
    "              X_train.columns[np.argsort(-rfc.feature_importances_)].values)\n",
    "        print('roc_auc = ',aucscore)\n",
    "\n",
    "# GridSearchCV\n",
    "grid_values = {'n_estimators':[10,100,200], 'max_depth':[1,2,3]}\n",
    "grid_clf_search = GridSearchCV(rfc, param_grid=grid_values, scoring= 'roc_auc')\n",
    "grid_clf_search.fit(X_train, y_train)\n",
    "print(grid_clf_search.estimator)\n",
    "print(grid_clf_search.best_score_)\n",
    "print(grid_clf_search.best_params_)\n",
    "print('feature_importances = ', \n",
    "      X_train.columns[np.argsort(-rfc.feature_importances_)].values)"
   ]
  },
  {
   "cell_type": "markdown",
   "metadata": {},
   "source": [
    "SVM"
   ]
  },
  {
   "cell_type": "code",
   "execution_count": 71,
   "metadata": {},
   "outputs": [
    {
     "name": "stdout",
     "output_type": "stream",
     "text": [
      "SVC(C=1.0, cache_size=200, class_weight=None, coef0=0.0,\n",
      "  decision_function_shape='ovr', degree=3, gamma='auto', kernel='rbf',\n",
      "  max_iter=-1, probability=False, random_state=None, shrinking=True,\n",
      "  tol=0.001, verbose=False)\n",
      "0.8026530708162062\n",
      "{'C': 5, 'gamma': 0.01}\n"
     ]
    }
   ],
   "source": [
    "#SVM\n",
    "# for C in [1,5,10]:\n",
    "#     for gamma in [0.01,0.03,0.1]:\n",
    "#         svm = SVC(kernel='rbf', C=C, gamma=gamma).fit(X_train,y_train)    \n",
    "#         score = svm.score(X_test, y_test)\n",
    "#         yp_X = svm.predict(X_train)\n",
    "#         aucscore = roc_auc_score(y_train,yp_X)\n",
    "# #         yp_Xt = svm.predict_proba(X_test)\n",
    "#         print('C= ', C)\n",
    "#         print('gamma=', gamma)\n",
    "# #         print('decision_function', svm.decision_function(X_test))\n",
    "#         print('X_train score = ',score)\n",
    "#         print('roc_auc = ',aucscore)\n",
    "\n",
    "# GridSearchCV\n",
    "svm = SVC(kernel='rbf').fit(X_train,y_train)    \n",
    "# grid_values = {'kernel':['linear','poly','rbf','sigmoid'],'C':[1,5,10], 'gamma':[0.01,0.03,0.1]}\n",
    "grid_values = {'C':[1,5,10], 'gamma':[0.01,0.03,0.1]}\n",
    "grid_clf_search = GridSearchCV(svm, param_grid=grid_values, scoring= 'roc_auc')\n",
    "grid_clf_search.fit(X_train, y_train)\n",
    "print(grid_clf_search.estimator)\n",
    "print(grid_clf_search.best_score_)\n",
    "print(grid_clf_search.best_params_)"
   ]
  },
  {
   "cell_type": "markdown",
   "metadata": {},
   "source": [
    "Stochastic Gradient Descent (SDG)"
   ]
  },
  {
   "cell_type": "code",
   "execution_count": 73,
   "metadata": {},
   "outputs": [
    {
     "name": "stdout",
     "output_type": "stream",
     "text": [
      "alpha: 0.001\n",
      "epochs: 1000\n",
      "X_train score =  0.7897897897897898\n",
      "roc_auc =  0.7791077771899327\n",
      "alpha: 0.01\n",
      "epochs: 1000\n",
      "X_train score =  0.7867867867867868\n",
      "roc_auc =  0.773278663744237\n",
      "alpha: 0.1\n",
      "epochs: 1000\n",
      "X_train score =  0.7867867867867868\n",
      "roc_auc =  0.7712663441916711\n",
      "SGDClassifier(alpha=0.1, average=False, class_weight=None, epsilon=0.1,\n",
      "       eta0=0.0, fit_intercept=True, l1_ratio=0.15,\n",
      "       learning_rate='optimal', loss='hinge', max_iter=1000, n_iter=None,\n",
      "       n_jobs=1, penalty='l2', power_t=0.5, random_state=None,\n",
      "       shuffle=True, tol=None, verbose=0, warm_start=False)\n",
      "0.8240846933858171\n",
      "{'alpha': 0.01, 'max_iter': 1000}\n"
     ]
    }
   ],
   "source": [
    "# Stochastic Gradient Descent (SGD) easily scale with more than 10^5 samples and features\n",
    "for alpha in [0.001, 0.01, 0.1]:\n",
    "    sgd = SGDClassifier(alpha=alpha, max_iter=1000).fit(X_train, y_train)\n",
    "    score = sgd.score(X_train, y_train)\n",
    "    yp_X = sgd.predict(X_train)\n",
    "    aucscore = roc_auc_score(y_train,yp_X)\n",
    "    print('alpha:', alpha)\n",
    "    print('epochs:', epochs)\n",
    "    print('X_train score = ',score)\n",
    "    print('roc_auc = ',aucscore)\n",
    "        \n",
    "# GridSearchCV\n",
    "# 'alpha':[0.0001,0.0003,0.0009]\n",
    "grid_values = {'alpha':[0.001,0.01,0.1], 'max_iter':[1000]}\n",
    "grid_clf_search = GridSearchCV(sgd, param_grid=grid_values, scoring= 'roc_auc')\n",
    "grid_clf_search.fit(X_train, y_train)\n",
    "print(grid_clf_search.estimator)\n",
    "print(grid_clf_search.best_score_)\n",
    "print(grid_clf_search.best_params_)"
   ]
  },
  {
   "cell_type": "markdown",
   "metadata": {},
   "source": [
    "Neural Network"
   ]
  },
  {
   "cell_type": "code",
   "execution_count": 74,
   "metadata": {},
   "outputs": [
    {
     "name": "stdout",
     "output_type": "stream",
     "text": [
      "alpha: 0.0001\n",
      "epochs: 1000\n",
      "X_train score =  0.7757847533632287\n",
      "roc_auc =  0.7712663441916711\n",
      "alpha: 0.001\n",
      "epochs: 1000\n",
      "X_train score =  0.7713004484304933\n",
      "roc_auc =  0.7712663441916711\n",
      "alpha: 0.01\n",
      "epochs: 1000\n",
      "X_train score =  0.7847533632286996\n",
      "roc_auc =  0.7712663441916711\n",
      "MLPClassifier(activation='relu', alpha=0.01, batch_size='auto', beta_1=0.9,\n",
      "       beta_2=0.999, early_stopping=False, epsilon=1e-08,\n",
      "       hidden_layer_sizes=(100,), learning_rate='constant',\n",
      "       learning_rate_init=0.001, max_iter=1000, momentum=0.9,\n",
      "       nesterovs_momentum=True, power_t=0.5, random_state=None,\n",
      "       shuffle=True, solver='adam', tol=0.0001, validation_fraction=0.1,\n",
      "       verbose=False, warm_start=False)\n",
      "0.7533776716601814\n",
      "{'alpha': 0.0001, 'max_iter': 1000}\n"
     ]
    }
   ],
   "source": [
    "# Neural Network\n",
    "for alpha in [0.0001, 0.001, 0.01]:\n",
    "    mlp = MLPClassifier(alpha=alpha, max_iter=1000).fit(X_train, y_train)\n",
    "    score = mlp.score(X_test,y_test)\n",
    "    yp = mlp.predict(X_test)\n",
    "    fpr, tpr, _ = roc_curve(y_test,yp)\n",
    "    roc_auc=auc(fpr,tpr)\n",
    "    print('alpha:', alpha)\n",
    "    print('epochs:', epochs)\n",
    "    print('X_train score = ',score)\n",
    "    print('roc_auc = ',aucscore)\n",
    "        \n",
    "# GridSearchCV\n",
    "grid_values = {'alpha':[0.0001,0.001,0.01], 'max_iter':[1000]}\n",
    "grid_clf_search = GridSearchCV(mlp, param_grid=grid_values, scoring= 'roc_auc')\n",
    "grid_clf_search.fit(X_train, y_train)\n",
    "print(grid_clf_search.estimator)\n",
    "print(grid_clf_search.best_score_)\n",
    "print(grid_clf_search.best_params_)"
   ]
  },
  {
   "cell_type": "markdown",
   "metadata": {},
   "source": [
    "Navie Bayes - GaussianNB"
   ]
  },
  {
   "cell_type": "code",
   "execution_count": 78,
   "metadata": {},
   "outputs": [
    {
     "name": "stdout",
     "output_type": "stream",
     "text": [
      "score =  0.7847533632286996\n",
      "roc =  0.7707780725022103\n",
      "GaussianNB(priors=None)\n",
      "0.8200855514885222\n",
      "{'priors': None}\n"
     ]
    }
   ],
   "source": [
    "# Navie Bayes - GaussianNB\n",
    "gnb = GaussianNB().fit(X_train, y_train)\n",
    "gnb.score(X_test,y_test)\n",
    "yp = lr.predict(X_test)\n",
    "fpr, tpr, _ = roc_curve(y_test,yp)\n",
    "roc_auc=auc(fpr,tpr)\n",
    "print('score = ',score)\n",
    "print('roc = ',roc_auc)\n",
    "\n",
    "# Logistic Regression with GridSearchCV\n",
    "# grid_values = {'n_estimators':[20, 30, 40], 'max_features':[2,3]}\n",
    "grid_values = {'priors':[None]}\n",
    "grid_clf_search = GridSearchCV(gnb, param_grid=grid_values, scoring= 'roc_auc')\n",
    "grid_clf_search.fit(X_train, y_train)\n",
    "print(grid_clf_search.estimator)\n",
    "print(grid_clf_search.best_score_)\n",
    "print(grid_clf_search.best_params_)"
   ]
  },
  {
   "cell_type": "code",
   "execution_count": null,
   "metadata": {},
   "outputs": [],
   "source": [
    "Dummy Classifier"
   ]
  },
  {
   "cell_type": "code",
   "execution_count": 84,
   "metadata": {},
   "outputs": [
    {
     "name": "stdout",
     "output_type": "stream",
     "text": [
      "score =  0.5112107623318386\n",
      "roc =  0.43068081343943415\n",
      "DummyClassifier(constant=None, random_state=None, strategy='stratified')\n",
      "0.502728168040257\n",
      "{'strategy': 'stratified'}\n"
     ]
    },
    {
     "name": "stderr",
     "output_type": "stream",
     "text": [
      "/Users/lambert/virtualenvs/tensorflow/lib/python3.6/site-packages/matplotlib/cbook/deprecation.py:107: MatplotlibDeprecationWarning: Adding an axes using the same arguments as a previous axes currently reuses the earlier instance.  In a future version, a new instance will always be created and returned.  Meanwhile, this warning can be suppressed, and the future behavior ensured, by passing a unique label to each axes instance.\n",
      "  warnings.warn(message, mplDeprecation, stacklevel=1)\n"
     ]
    },
    {
     "data": {
      "image/png": "[encoded data removed]",
      "text/plain": [
       "<Figure size 432x288 with 1 Axes>"
      ]
     },
     "metadata": {},
     "output_type": "display_data"
    }
   ],
   "source": [
    "# Dummy Classifier\n",
    "dummy = DummyClassifier().fit(X_train, y_train)\n",
    "# Therefore the dummy 'most_frequent' classifier always predicts class 0\n",
    "score = dummy.score(X_test,y_test)\n",
    "yp = dummy.predict(X_test)\n",
    "fpr, tpr, _ = roc_curve(y_test,yp)\n",
    "roc_auc=auc(fpr,tpr)\n",
    "print('score = ',score)\n",
    "print('roc = ',roc_auc)\n",
    "\n",
    "# grid_values = {'n_estimators':[20, 30, 40], 'max_features':[2,3]}\n",
    "grid_values = {'strategy':['stratified','most_frequent','prior','uniform']}\n",
    "grid_clf_search = GridSearchCV(dummy, param_grid=grid_values, scoring= 'roc_auc')\n",
    "grid_clf_search.fit(X_train, y_train)\n",
    "print(grid_clf_search.estimator)\n",
    "print(grid_clf_search.best_score_)\n",
    "print(grid_clf_search.best_params_)\n",
    "plot_roc_auc(tpr,fpr,roc_auc)"
   ]
  },
  {
   "cell_type": "code",
   "execution_count": null,
   "metadata": {},
   "outputs": [],
   "source": []
  },
  {
   "cell_type": "code",
   "execution_count": null,
   "metadata": {},
   "outputs": [],
   "source": []
  },
  {
   "cell_type": "code",
   "execution_count": null,
   "metadata": {},
   "outputs": [],
   "source": [
    "from sklearn.ensemble import RandomForestClassifier\n",
    "from sklearn.model_selection import train_test_split\n",
    "from adspy_shared_utilities import plot_class_regions_for_classifier_subplot\n",
    "\n",
    "fig, subaxes = plt.subplots(1, 1, figsize=(6, 6))\n",
    "clf = RandomForestClassifier().fit(X_train, y_train)\n",
    "title = 'Random Forest Classifier, complex binary dataset, default settings'\n",
    "plot_class_regions_for_classifier_subplot(clf, X_train, y_train, X_test,y_test, title, subaxes)\n",
    "plt.show()"
   ]
  },
  {
   "cell_type": "code",
   "execution_count": null,
   "metadata": {},
   "outputs": [],
   "source": [
    "path+'adspy_shared_utilities'"
   ]
  },
  {
   "cell_type": "code",
   "execution_count": null,
   "metadata": {},
   "outputs": [],
   "source": [
    "print(df_train.Cabin.unique())\n",
    "print(df_test.Cabin.unique())"
   ]
  },
  {
   "cell_type": "code",
   "execution_count": null,
   "metadata": {},
   "outputs": [],
   "source": [
    "print(df_train.isnull().sum())\n",
    "print(df_train.Age.mean())\n",
    "print(df_train.Age.median())"
   ]
  },
  {
   "cell_type": "code",
   "execution_count": null,
   "metadata": {},
   "outputs": [],
   "source": [
    "df_test.shape"
   ]
  },
  {
   "cell_type": "code",
   "execution_count": 41,
   "metadata": {},
   "outputs": [],
   "source": [
    "def plot_roc_auc(tpr, fpr, roc_auc):\n",
    "    plt.figure()\n",
    "    plt.xlim([-0.01, 1.00])\n",
    "    plt.ylim([-0.01, 1.01])\n",
    "    plt.plot(fpr, tpr, lw=3, label='ROC curve (area = {:0.2f})'.format(roc_auc))\n",
    "    plt.xlabel('False Positive Rate', fontsize=16)\n",
    "    plt.ylabel('True Positive Rate', fontsize=16)\n",
    "    plt.title('ROC curve (1-of-10 digits classifier)', fontsize=16)\n",
    "    plt.legend(loc='lower right', fontsize=13)\n",
    "    plt.plot([0, 1], [0, 1], color='navy', lw=3, linestyle='--')\n",
    "    plt.axes().set_aspect('equal')\n",
    "    plt.show()"
   ]
  },
  {
   "cell_type": "code",
   "execution_count": 42,
   "metadata": {},
   "outputs": [
    {
     "name": "stderr",
     "output_type": "stream",
     "text": [
      "/Users/lambert/virtualenvs/tensorflow/lib/python3.6/site-packages/matplotlib/cbook/deprecation.py:107: MatplotlibDeprecationWarning: Adding an axes using the same arguments as a previous axes currently reuses the earlier instance.  In a future version, a new instance will always be created and returned.  Meanwhile, this warning can be suppressed, and the future behavior ensured, by passing a unique label to each axes instance.\n",
      "  warnings.warn(message, mplDeprecation, stacklevel=1)\n"
     ]
    },
    {
     "data": {
      "image/png": "[encoded data removed]",
      "text/plain": [
       "<Figure size 432x288 with 1 Axes>"
      ]
     },
     "metadata": {},
     "output_type": "display_data"
    }
   ],
   "source": [
    "plot_roc_auc(tpr,fpr,roc_auc)"
   ]
  },
  {
   "cell_type": "code",
   "execution_count": 37,
   "metadata": {},
   "outputs": [
    {
     "data": {
      "text/plain": [
       "(array([0.        , 0.55172414, 1.        ]),\n",
       " array([0.        , 0.17647059, 1.        ]))"
      ]
     },
     "execution_count": 37,
     "metadata": {},
     "output_type": "execute_result"
    }
   ],
   "source": [
    "tpr, fpr"
   ]
  },
  {
   "cell_type": "code",
   "execution_count": 38,
   "metadata": {},
   "outputs": [],
   "source": [
    "tpr = [0.,0.97,1.]"
   ]
  },
  {
   "cell_type": "code",
   "execution_count": null,
   "metadata": {},
   "outputs": [],
   "source": []
  }
 ],
 "metadata": {
  "kernelspec": {
   "display_name": "Python 3",
   "language": "python",
   "name": "python3"
  },
  "language_info": {
   "codemirror_mode": {
    "name": "ipython",
    "version": 3
   },
   "file_extension": ".py",
   "mimetype": "text/x-python",
   "name": "python",
   "nbconvert_exporter": "python",
   "pygments_lexer": "ipython3",
   "version": "3.6.4"
  }
 },
 "nbformat": 4,
 "nbformat_minor": 2
}
