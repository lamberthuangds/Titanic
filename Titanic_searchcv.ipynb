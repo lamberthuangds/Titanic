{
 "cells": [
  {
   "cell_type": "code",
   "execution_count": 164,
   "metadata": {},
   "outputs": [],
   "source": [
    "import numpy as np\n",
    "import pandas as pd\n",
    "import matplotlib.pyplot as plt\n",
    "from sklearn.model_selection import train_test_split\n",
    "from sklearn.neighbors import KNeighborsClassifier\n",
    "from sklearn.tree import DecisionTreeClassifier\n",
    "from sklearn.linear_model import LogisticRegression\n",
    "from sklearn.linear_model import SGDClassifier\n",
    "from sklearn.svm import SVC\n",
    "from sklearn.ensemble import GradientBoostingClassifier\n",
    "from sklearn.ensemble import RandomForestClassifier\n",
    "from sklearn.neural_network import MLPClassifier\n",
    "from sklearn.naive_bayes import GaussianNB\n",
    "from sklearn.dummy import DummyClassifier\n",
    "from sklearn.model_selection import GridSearchCV\n",
    "from sklearn.preprocessing import LabelEncoder\n",
    "from sklearn.preprocessing import MinMaxScaler\n",
    "from sklearn.metrics import roc_auc_score\n",
    "from sklearn.metrics import roc_curve, auc\n",
    "# from adspy_shared_utilities import plot_class_regions_for_classifier_subplot\n",
    "# from adspy_shared_utilities import plot_class_regions_for_classifier\n",
    "import tensorflow as tf\n",
    "path ='/Users/lambert/Documents/Python_code/Python_DS_code/Py_ML/ML_references/'"
   ]
  },
  {
   "cell_type": "code",
   "execution_count": 179,
   "metadata": {},
   "outputs": [],
   "source": [
    "df_train = pd.read_csv('train.csv')\n",
    "df_test = pd.read_csv('test.csv')\n",
    "\n",
    "# Age - find the median and fill to \n",
    "# may be try df_test_Age with its own median\n",
    "# fill_df_test_Age = df_test.Age.median()\n",
    "fill_df_Age = df_train.Age.median()\n",
    "df_train.Age.fillna(fill_df_Age, inplace=True)\n",
    "df_test.Age.fillna(fill_df_Age, inplace=True)\n",
    "\n",
    "# Cabin - fill nan with 'fill' and select first cabin\n",
    "df_train.Cabin.fillna('fill',inplace=True)\n",
    "df_train.Cabin = df_train.Cabin.map(lambda x:x.split(' ')[0])\n",
    "df_test.Cabin.fillna('fill', inplace=True)\n",
    "df_test.Cabin = df_train.Cabin.map(lambda x:x.split(' ')[0])\n",
    "\n",
    "# Sex - male: 1, female: 1\n",
    "df_train.Sex.replace({'male':1, 'female':0}, inplace=True)\n",
    "df_test.Sex.replace({'male':1, 'female':0}, inplace=True)\n",
    "\n",
    "df_train = df_train.dropna(axis=0, how='any')\n",
    "df_test = df_test.dropna(axis=0, how='any')\n",
    "#df_test from 892 to "
   ]
  },
  {
   "cell_type": "code",
   "execution_count": 180,
   "metadata": {},
   "outputs": [],
   "source": [
    "import re\n",
    "def get_title(name):\n",
    "    if pd.isnull(name):\n",
    "        return 'Null'\n",
    "    title_search = re.search('([A-Za-z]+)\\.', name)\n",
    "    if title_search:\n",
    "        return title_search.group(1).lower()\n",
    "    else:\n",
    "        return 'None'"
   ]
  },
  {
   "cell_type": "code",
   "execution_count": 181,
   "metadata": {},
   "outputs": [],
   "source": [
    "titles = {'mr':1, 'mrs':2, 'mme':2, 'ms':3, 'miss':3, 'mlle':3, 'don':4, 'sir':4, 'jonkheer':4,\n",
    "          'major':4, 'col':4, 'dr':4, 'master':4, 'capt':4, 'dona':5, 'lady':5, 'countess':5,\n",
    "         'rev':7}\n",
    "df_train['Title'] = df_train['Name'].apply(lambda name: titles.get(get_title(name)))\n",
    "df_train['Honor'] = df_train['Title'].apply(lambda title: 1 if title ==4 or title == 5 else 0)\n",
    "df_test['Title'] = df_test['Name'].apply(lambda name: titles.get(get_title(name)))\n",
    "df_test['Honor'] = df_test['Title'].apply(lambda title: 1 if title ==4 or title == 5 else 0)"
   ]
  },
  {
   "cell_type": "code",
   "execution_count": 186,
   "metadata": {},
   "outputs": [],
   "source": [
    "sFeatures = ['Pclass',\n",
    " 'Sex',\n",
    " 'Age',\n",
    " 'SibSp',\n",
    " 'Parch',\n",
    " 'Fare',             \n",
    " 'Cabin',             \n",
    " 'Embarked',\n",
    " 'Title', \n",
    " 'Honor']\n",
    "\n",
    "X = df_train[sFeatures]\n",
    "y = df_train['Survived']"
   ]
  },
  {
   "cell_type": "code",
   "execution_count": 187,
   "metadata": {},
   "outputs": [
    {
     "data": {
      "text/plain": [
       "(889, 10)"
      ]
     },
     "execution_count": 187,
     "metadata": {},
     "output_type": "execute_result"
    }
   ],
   "source": [
    "X.shape"
   ]
  },
  {
   "cell_type": "code",
   "execution_count": 188,
   "metadata": {},
   "outputs": [
    {
     "name": "stderr",
     "output_type": "stream",
     "text": [
      "/Users/lambert/virtualenvs/tensorflow/lib/python3.6/site-packages/ipykernel_launcher.py:5: SettingWithCopyWarning: \n",
      "A value is trying to be set on a copy of a slice from a DataFrame.\n",
      "Try using .loc[row_indexer,col_indexer] = value instead\n",
      "\n",
      "See the caveats in the documentation: http://pandas.pydata.org/pandas-docs/stable/indexing.html#indexing-view-versus-copy\n",
      "  \"\"\"\n",
      "/Users/lambert/virtualenvs/tensorflow/lib/python3.6/site-packages/ipykernel_launcher.py:6: SettingWithCopyWarning: \n",
      "A value is trying to be set on a copy of a slice from a DataFrame.\n",
      "Try using .loc[row_indexer,col_indexer] = value instead\n",
      "\n",
      "See the caveats in the documentation: http://pandas.pydata.org/pandas-docs/stable/indexing.html#indexing-view-versus-copy\n",
      "  \n"
     ]
    }
   ],
   "source": [
    "# LabelEncoder categorical Cabin and Embarked\n",
    "le_Cabin = LabelEncoder().fit(np.array(X['Cabin'].tolist()))\n",
    "le_Embarked = LabelEncoder().fit(np.array(X['Embarked'].tolist()))\n",
    "\n",
    "X['Cabin'] = le_Cabin.transform(X['Cabin'])\n",
    "X['Embarked'] = le_Embarked.transform(X['Embarked'])"
   ]
  },
  {
   "cell_type": "code",
   "execution_count": 189,
   "metadata": {},
   "outputs": [],
   "source": [
    "# Validation\n",
    "X_train, X_val, y_train, y_val = train_test_split(X, y,)"
   ]
  },
  {
   "cell_type": "markdown",
   "metadata": {},
   "source": [
    "### Skip this one for validation, after validation run below 2nd run \n",
    "Select the best estimator, then re-tain with whole X\n",
    "\n",
    "Make X_val = df_test, clean df_test data"
   ]
  },
  {
   "cell_type": "code",
   "execution_count": 129,
   "metadata": {},
   "outputs": [],
   "source": [
    "# 2nd run\n",
    "# X_test = df_test[sFeatures]\n",
    "# X_test['Cabin'] = le_Cabin.transform(X_test['Cabin'])\n",
    "# X_test['Embarked'] = le_Embarked.transform(X_test['Embarked'])\n",
    "\n",
    "# X_train = X\n",
    "# y_train = y"
   ]
  },
  {
   "cell_type": "code",
   "execution_count": 130,
   "metadata": {},
   "outputs": [],
   "source": [
    "# scaler = MinMaxScaler()\n",
    "# X_train = scaler.fit_transform(X_train)\n",
    "# X_val = scaler.transform(X_val)"
   ]
  },
  {
   "cell_type": "code",
   "execution_count": 89,
   "metadata": {},
   "outputs": [
    {
     "data": {
      "text/plain": [
       "(666,)"
      ]
     },
     "execution_count": 89,
     "metadata": {},
     "output_type": "execute_result"
    }
   ],
   "source": [
    "# X_train.iloc[:,[1,2]].as_matrix()[:,0].max()\n",
    "y_train.shape"
   ]
  },
  {
   "cell_type": "code",
   "execution_count": 190,
   "metadata": {},
   "outputs": [
    {
     "data": {
      "text/html": [
       "<div>\n",
       "<style scoped>\n",
       "    .dataframe tbody tr th:only-of-type {\n",
       "        vertical-align: middle;\n",
       "    }\n",
       "\n",
       "    .dataframe tbody tr th {\n",
       "        vertical-align: top;\n",
       "    }\n",
       "\n",
       "    .dataframe thead th {\n",
       "        text-align: right;\n",
       "    }\n",
       "</style>\n",
       "<table border=\"1\" class=\"dataframe\">\n",
       "  <thead>\n",
       "    <tr style=\"text-align: right;\">\n",
       "      <th></th>\n",
       "      <th>Pclass</th>\n",
       "      <th>Sex</th>\n",
       "      <th>Age</th>\n",
       "      <th>SibSp</th>\n",
       "      <th>Parch</th>\n",
       "      <th>Fare</th>\n",
       "      <th>Cabin</th>\n",
       "      <th>Embarked</th>\n",
       "      <th>Title</th>\n",
       "      <th>Honor</th>\n",
       "    </tr>\n",
       "  </thead>\n",
       "  <tbody>\n",
       "    <tr>\n",
       "      <th>620</th>\n",
       "      <td>3</td>\n",
       "      <td>1</td>\n",
       "      <td>27.0</td>\n",
       "      <td>1</td>\n",
       "      <td>0</td>\n",
       "      <td>14.4542</td>\n",
       "      <td>144</td>\n",
       "      <td>0</td>\n",
       "      <td>1</td>\n",
       "      <td>0</td>\n",
       "    </tr>\n",
       "    <tr>\n",
       "      <th>466</th>\n",
       "      <td>2</td>\n",
       "      <td>1</td>\n",
       "      <td>28.0</td>\n",
       "      <td>0</td>\n",
       "      <td>0</td>\n",
       "      <td>0.0000</td>\n",
       "      <td>144</td>\n",
       "      <td>2</td>\n",
       "      <td>1</td>\n",
       "      <td>0</td>\n",
       "    </tr>\n",
       "    <tr>\n",
       "      <th>355</th>\n",
       "      <td>3</td>\n",
       "      <td>1</td>\n",
       "      <td>28.0</td>\n",
       "      <td>0</td>\n",
       "      <td>0</td>\n",
       "      <td>9.5000</td>\n",
       "      <td>144</td>\n",
       "      <td>2</td>\n",
       "      <td>1</td>\n",
       "      <td>0</td>\n",
       "    </tr>\n",
       "    <tr>\n",
       "      <th>439</th>\n",
       "      <td>2</td>\n",
       "      <td>1</td>\n",
       "      <td>31.0</td>\n",
       "      <td>0</td>\n",
       "      <td>0</td>\n",
       "      <td>10.5000</td>\n",
       "      <td>144</td>\n",
       "      <td>2</td>\n",
       "      <td>1</td>\n",
       "      <td>0</td>\n",
       "    </tr>\n",
       "    <tr>\n",
       "      <th>308</th>\n",
       "      <td>2</td>\n",
       "      <td>1</td>\n",
       "      <td>30.0</td>\n",
       "      <td>1</td>\n",
       "      <td>0</td>\n",
       "      <td>24.0000</td>\n",
       "      <td>144</td>\n",
       "      <td>0</td>\n",
       "      <td>1</td>\n",
       "      <td>0</td>\n",
       "    </tr>\n",
       "    <tr>\n",
       "      <th>30</th>\n",
       "      <td>1</td>\n",
       "      <td>1</td>\n",
       "      <td>40.0</td>\n",
       "      <td>0</td>\n",
       "      <td>0</td>\n",
       "      <td>27.7208</td>\n",
       "      <td>144</td>\n",
       "      <td>0</td>\n",
       "      <td>4</td>\n",
       "      <td>1</td>\n",
       "    </tr>\n",
       "    <tr>\n",
       "      <th>704</th>\n",
       "      <td>3</td>\n",
       "      <td>1</td>\n",
       "      <td>26.0</td>\n",
       "      <td>1</td>\n",
       "      <td>0</td>\n",
       "      <td>7.8542</td>\n",
       "      <td>144</td>\n",
       "      <td>2</td>\n",
       "      <td>1</td>\n",
       "      <td>0</td>\n",
       "    </tr>\n",
       "    <tr>\n",
       "      <th>869</th>\n",
       "      <td>3</td>\n",
       "      <td>1</td>\n",
       "      <td>4.0</td>\n",
       "      <td>1</td>\n",
       "      <td>1</td>\n",
       "      <td>11.1333</td>\n",
       "      <td>144</td>\n",
       "      <td>2</td>\n",
       "      <td>4</td>\n",
       "      <td>1</td>\n",
       "    </tr>\n",
       "    <tr>\n",
       "      <th>718</th>\n",
       "      <td>3</td>\n",
       "      <td>1</td>\n",
       "      <td>28.0</td>\n",
       "      <td>0</td>\n",
       "      <td>0</td>\n",
       "      <td>15.5000</td>\n",
       "      <td>144</td>\n",
       "      <td>1</td>\n",
       "      <td>1</td>\n",
       "      <td>0</td>\n",
       "    </tr>\n",
       "    <tr>\n",
       "      <th>809</th>\n",
       "      <td>1</td>\n",
       "      <td>0</td>\n",
       "      <td>33.0</td>\n",
       "      <td>1</td>\n",
       "      <td>0</td>\n",
       "      <td>53.1000</td>\n",
       "      <td>136</td>\n",
       "      <td>2</td>\n",
       "      <td>2</td>\n",
       "      <td>0</td>\n",
       "    </tr>\n",
       "  </tbody>\n",
       "</table>\n",
       "</div>"
      ],
      "text/plain": [
       "     Pclass  Sex   Age  SibSp  Parch     Fare  Cabin  Embarked  Title  Honor\n",
       "620       3    1  27.0      1      0  14.4542    144         0      1      0\n",
       "466       2    1  28.0      0      0   0.0000    144         2      1      0\n",
       "355       3    1  28.0      0      0   9.5000    144         2      1      0\n",
       "439       2    1  31.0      0      0  10.5000    144         2      1      0\n",
       "308       2    1  30.0      1      0  24.0000    144         0      1      0\n",
       "30        1    1  40.0      0      0  27.7208    144         0      4      1\n",
       "704       3    1  26.0      1      0   7.8542    144         2      1      0\n",
       "869       3    1   4.0      1      1  11.1333    144         2      4      1\n",
       "718       3    1  28.0      0      0  15.5000    144         1      1      0\n",
       "809       1    0  33.0      1      0  53.1000    136         2      2      0"
      ]
     },
     "execution_count": 190,
     "metadata": {},
     "output_type": "execute_result"
    }
   ],
   "source": [
    "X_train[0:10]"
   ]
  },
  {
   "cell_type": "code",
   "execution_count": 191,
   "metadata": {},
   "outputs": [
    {
     "data": {
      "text/plain": [
       "KNeighborsClassifier(algorithm='auto', leaf_size=30, metric='minkowski',\n",
       "           metric_params=None, n_jobs=1, n_neighbors=1, p=2,\n",
       "           weights='uniform')"
      ]
     },
     "execution_count": 191,
     "metadata": {},
     "output_type": "execute_result"
    }
   ],
   "source": [
    "knn = KNeighborsClassifier(n_neighbors=1)\n",
    "knn.fit(X_train, y_train)"
   ]
  },
  {
   "cell_type": "markdown",
   "metadata": {},
   "source": [
    "KNN"
   ]
  },
  {
   "cell_type": "code",
   "execution_count": 195,
   "metadata": {
    "scrolled": true
   },
   "outputs": [
    {
     "name": "stdout",
     "output_type": "stream",
     "text": [
      "k =  1\n",
      "knn.score =  0.6995515695067265\n",
      "roc_auc_score =  0.6680072651790347\n",
      "auc from roc_auc area 0.6680072651790347\n",
      "k =  3\n",
      "knn.score =  0.7219730941704036\n",
      "roc_auc_score =  0.6755319148936171\n",
      "auc from roc_auc area 0.6755319148936171\n",
      "k =  5\n",
      "knn.score =  0.7219730941704036\n",
      "roc_auc_score =  0.6755319148936171\n",
      "auc from roc_auc area 0.6755319148936171\n",
      "k =  7\n",
      "knn.score =  0.726457399103139\n",
      "roc_auc_score =  0.6841809375540564\n",
      "auc from roc_auc area 0.6841809375540564\n",
      "KNeighborsClassifier(algorithm='auto', leaf_size=30, metric='minkowski',\n",
      "           metric_params=None, n_jobs=1, n_neighbors=7, p=2,\n",
      "           weights='uniform')\n",
      "0.7702063383492932\n",
      "{'n_neighbors': 7, 'weights': 'distance'}\n"
     ]
    }
   ],
   "source": [
    "for i in [1,3,5,7]:\n",
    "    knn = KNeighborsClassifier(n_neighbors=i)\n",
    "    knn.fit(X_train, y_train)\n",
    "    score = knn.score(X_val,y_val)\n",
    "    yp=knn.predict(X_val)\n",
    "    fpr, tpr, _ = roc_curve(y_val,yp)\n",
    "    roc_score = roc_auc_score(y_val,yp) # caculate the score\n",
    "    roc_auc=auc(fpr,tpr) #caculate the area\n",
    "    print('k = ',i)\n",
    "    print('knn.score = ',score)\n",
    "    print('roc_auc_score = ',roc_score)\n",
    "    print('auc from roc_auc area', roc_auc)\n",
    "# plot_roc_auc(tpr, fpr, roc_auc)\n",
    "# GridSearchCV\n",
    "grid_values = {'n_neighbors':[1,3,5,7],'weights':['uniform','distance']}\n",
    "grid_clf_search = GridSearchCV(knn, param_grid=grid_values, scoring= 'roc_auc')\n",
    "#cv default=3, K-fold\n",
    "grid_clf_search.fit(X_train, y_train)\n",
    "print(grid_clf_search.estimator)\n",
    "print(grid_clf_search.best_score_)\n",
    "print(grid_clf_search.best_params_)\n",
    "\n",
    "# X_plot1 = X_train.as_matrix()\n",
    "# y_plot1 = y_train.as_matrix()\n",
    "# plot_class_regions_for_classifier(knn, X_plot1, y_plot1)\n",
    "\n",
    "# plot_class_regions_for_classifier_subplot(grid_clf_search, X_val, y_val, None, None, NOne, plt.subplot(2,2))\n",
    "# plot_class_regions_for_classifier(clf, X, y, X_val, y_val, title, target_names, plot_decision_regions)"
   ]
  },
  {
   "cell_type": "markdown",
   "metadata": {},
   "source": [
    "Decision Tree"
   ]
  },
  {
   "cell_type": "code",
   "execution_count": 196,
   "metadata": {},
   "outputs": [
    {
     "name": "stdout",
     "output_type": "stream",
     "text": [
      "Max_depth =  100\n",
      "score =  0.726457399103139\n",
      "roc =  0.7679899671337139\n",
      "Max_depth =  200\n",
      "score =  0.726457399103139\n",
      "roc =  0.7821743642968345\n",
      "Max_depth =  300\n",
      "score =  0.726457399103139\n",
      "roc =  0.7705414288185436\n",
      "DecisionTreeClassifier(class_weight=None, criterion='gini', max_depth=300,\n",
      "            max_features=None, max_leaf_nodes=None,\n",
      "            min_impurity_decrease=0.0, min_impurity_split=None,\n",
      "            min_samples_leaf=1, min_samples_split=2,\n",
      "            min_weight_fraction_leaf=0.0, presort=False, random_state=None,\n",
      "            splitter='best')\n",
      "0.7493302553579572\n",
      "{'max_depth': 300}\n"
     ]
    }
   ],
   "source": [
    "# Decision Tree\n",
    "for i in [100,200,300]:\n",
    "    dt = DecisionTreeClassifier(max_depth = i).fit(X_train, y_train)\n",
    "    dt.score(X_val,y_val)\n",
    "    yp = dt.predict(X_val)\n",
    "    fpr, tpr, _ = roc_curve(y_val,yp)\n",
    "    roc_auc=auc(fpr,tpr)\n",
    "    print('Max_depth = ',i)\n",
    "    print('score = ',score)\n",
    "    print('roc = ',roc_auc)\n",
    "# GridSearchCV\n",
    "grid_values = {'max_depth':[100,200,300]}\n",
    "grid_clf_search = GridSearchCV(dt, param_grid=grid_values, scoring= 'roc_auc')\n",
    "grid_clf_search.fit(X_train, y_train)\n",
    "print(grid_clf_search.estimator)\n",
    "print(grid_clf_search.best_score_)\n",
    "print(grid_clf_search.best_params_)"
   ]
  },
  {
   "cell_type": "markdown",
   "metadata": {},
   "source": [
    "Logistic Regression"
   ]
  },
  {
   "cell_type": "code",
   "execution_count": 197,
   "metadata": {},
   "outputs": [
    {
     "name": "stdout",
     "output_type": "stream",
     "text": [
      "C =  0.1\n",
      "score =  0.726457399103139\n",
      "roc =  0.7506919218128352\n",
      "C =  1\n",
      "score =  0.726457399103139\n",
      "roc =  0.7557948451824944\n",
      "C =  100\n",
      "score =  0.726457399103139\n",
      "roc =  0.7791904514789829\n",
      "LogisticRegression(C=100, class_weight=None, dual=False, fit_intercept=True,\n",
      "          intercept_scaling=1, max_iter=100, multi_class='ovr', n_jobs=1,\n",
      "          penalty='l2', random_state=None, solver='liblinear', tol=0.0001,\n",
      "          verbose=0, warm_start=False)\n",
      "0.8700980392156863\n",
      "{'C': 10, 'max_iter': 100, 'solver': 'newton-cg'}\n"
     ]
    }
   ],
   "source": [
    "# Logistic Regression\n",
    "for i in [0.1,1,100]:\n",
    "    lr = LogisticRegression(C=i).fit(X_train, y_train)\n",
    "    lr.score(X_val,y_val)\n",
    "    yp = lr.predict(X_val)\n",
    "    fpr, tpr, _ = roc_curve(y_val,yp)\n",
    "    roc_auc=auc(fpr,tpr)\n",
    "    print('C = ',i)\n",
    "    print('score = ',score)\n",
    "    print('roc = ',roc_auc)\n",
    "\n",
    "# Logistic Regression with GridSearchCV\n",
    "# grid_values = {'n_estimators':[20, 30, 40], 'max_features':[2,3]}\n",
    "grid_values = {'C':[0.1,1,10,100], 'solver':['lbfgs','liblinear','newton-cg'],\n",
    "               'max_iter':[100,1000,10000]}\n",
    "grid_clf_search = GridSearchCV(lr, param_grid=grid_values, scoring= 'roc_auc')\n",
    "grid_clf_search.fit(X_train, y_train)\n",
    "print(grid_clf_search.estimator)\n",
    "print(grid_clf_search.best_score_)\n",
    "print(grid_clf_search.best_params_)"
   ]
  },
  {
   "cell_type": "code",
   "execution_count": 198,
   "metadata": {},
   "outputs": [
    {
     "data": {
      "text/plain": [
       "{'C': 10, 'max_iter': 100, 'solver': 'newton-cg'}"
      ]
     },
     "execution_count": 198,
     "metadata": {},
     "output_type": "execute_result"
    }
   ],
   "source": [
    "grid_clf_search.best_params_"
   ]
  },
  {
   "cell_type": "markdown",
   "metadata": {},
   "source": [
    "Gradient Boosting Classifier"
   ]
  },
  {
   "cell_type": "code",
   "execution_count": 199,
   "metadata": {
    "scrolled": true
   },
   "outputs": [
    {
     "name": "stdout",
     "output_type": "stream",
     "text": [
      "features Index(['Pclass', 'Sex', 'Age', 'SibSp', 'Parch', 'Fare', 'Cabin', 'Embarked',\n",
      "       'Title', 'Honor'],\n",
      "      dtype='object')\n",
      "n_estimators: 100\n",
      "max_depth: 3\n",
      "X_train score =  0.9159159159159159\n",
      "feature_importances =  ['Fare' 'Age' 'Cabin' 'Title' 'Sex' 'Pclass' 'SibSp' 'Embarked' 'Parch'\n",
      " 'Honor']\n",
      "roc_auc =  0.904297765617875\n",
      "n_estimators: 100\n",
      "max_depth: 4\n",
      "X_train score =  0.9459459459459459\n",
      "feature_importances =  ['Fare' 'Age' 'Title' 'Cabin' 'Sex' 'Pclass' 'SibSp' 'Embarked' 'Parch'\n",
      " 'Honor']\n",
      "roc_auc =  0.9359325125398997\n",
      "n_estimators: 100\n",
      "max_depth: 5\n",
      "X_train score =  0.9669669669669669\n",
      "feature_importances =  ['Fare' 'Age' 'Title' 'Cabin' 'Pclass' 'SibSp' 'Sex' 'Embarked' 'Parch'\n",
      " 'Honor']\n",
      "roc_auc =  0.9602143182854537\n",
      "n_estimators: 200\n",
      "max_depth: 3\n",
      "X_train score =  0.9414414414414415\n",
      "feature_importances =  ['Fare' 'Age' 'Cabin' 'Title' 'Sex' 'Embarked' 'Pclass' 'SibSp' 'Parch'\n",
      " 'Honor']\n",
      "roc_auc =  0.9322560419516643\n",
      "n_estimators: 200\n",
      "max_depth: 4\n",
      "X_train score =  0.9669669669669669\n",
      "feature_importances =  ['Fare' 'Age' 'Cabin' 'Title' 'Sex' 'Pclass' 'SibSp' 'Embarked' 'Parch'\n",
      " 'Honor']\n",
      "roc_auc =  0.9602143182854537\n",
      "n_estimators: 200\n",
      "max_depth: 5\n",
      "X_train score =  0.9864864864864865\n",
      "feature_importances =  ['Fare' 'Age' 'Cabin' 'Title' 'Pclass' 'SibSp' 'Sex' 'Embarked' 'Parch'\n",
      " 'Honor']\n",
      "roc_auc =  0.9839831281349749\n",
      "n_estimators: 300\n",
      "max_depth: 3\n",
      "X_train score =  0.9519519519519519\n",
      "feature_importances =  ['Fare' 'Age' 'Cabin' 'Title' 'Embarked' 'Pclass' 'Sex' 'Parch' 'SibSp'\n",
      " 'Honor']\n",
      "roc_auc =  0.9443969448244414\n",
      "n_estimators: 300\n",
      "max_depth: 4\n",
      "X_train score =  0.9819819819819819\n",
      "feature_importances =  ['Fare' 'Age' 'Cabin' 'Title' 'Pclass' 'SibSp' 'Sex' 'Embarked' 'Parch'\n",
      " 'Honor']\n",
      "roc_auc =  0.9774566803465572\n",
      "n_estimators: 300\n",
      "max_depth: 5\n",
      "X_train score =  0.9864864864864865\n",
      "feature_importances =  ['Fare' 'Age' 'Cabin' 'Title' 'Pclass' 'SibSp' 'Sex' 'Embarked' 'Parch'\n",
      " 'Honor']\n",
      "roc_auc =  0.9846956224350205\n",
      "GradientBoostingClassifier(criterion='friedman_mse', init=None,\n",
      "              learning_rate=0.1, loss='deviance', max_depth=5,\n",
      "              max_features=None, max_leaf_nodes=None,\n",
      "              min_impurity_decrease=0.0, min_impurity_split=None,\n",
      "              min_samples_leaf=1, min_samples_split=2,\n",
      "              min_weight_fraction_leaf=0.0, n_estimators=300,\n",
      "              presort='auto', random_state=None, subsample=1.0, verbose=0,\n",
      "              warm_start=False)\n",
      "Best score: 0.8297708618331053\n",
      "Best params: {'max_depth': 200}\n",
      "feature_importances =  ['Fare' 'Age' 'Cabin' 'Title' 'Pclass' 'SibSp' 'Sex' 'Embarked' 'Parch'\n",
      " 'Honor']\n"
     ]
    }
   ],
   "source": [
    "# Gradient Boosting Classifier\n",
    "print('features', X_train.columns)\n",
    "for e in [100,200,300]:\n",
    "    for m in [3,4,5]:\n",
    "        gbdt = GradientBoostingClassifier(n_estimators=e, max_depth=m).fit(X_train, y_train)\n",
    "        score = gbdt.score(X_train, y_train)\n",
    "        yp_X = gbdt.predict(X_train)\n",
    "        aucscore = roc_auc_score(y_train,yp_X)\n",
    "        yp_Xt = gbdt.predict_proba(X_val)\n",
    "        print('n_estimators:', e)\n",
    "        print('max_depth:', m)\n",
    "        print('X_train score = ',score)\n",
    "#         print('feature_importances = ', gbdt.feature_importances_)\n",
    "        print('feature_importances = ', \n",
    "              X_train.columns[np.argsort(-gbdt.feature_importances_)].values)\n",
    "        print('roc_auc = ',aucscore)\n",
    "#         print('yp_X', yp_X[0:10])\n",
    "#         print('yp_Xt', yp_Xt[0:10])\n",
    "# GridSearchCV\n",
    "grid_values = {'max_depth':[100,200,300]}\n",
    "grid_clf_search = GridSearchCV(gbdt, param_grid=grid_values, scoring= 'roc_auc')\n",
    "grid_clf_search.fit(X_train, y_train)\n",
    "print(grid_clf_search.estimator)\n",
    "print('Best score:',grid_clf_search.best_score_)\n",
    "print('Best params:', grid_clf_search.best_params_)\n",
    "print('feature_importances = ', \n",
    "      X_train.columns[np.argsort(-gbdt.feature_importances_)].values)"
   ]
  },
  {
   "cell_type": "markdown",
   "metadata": {},
   "source": [
    "Random forests"
   ]
  },
  {
   "cell_type": "code",
   "execution_count": 200,
   "metadata": {},
   "outputs": [
    {
     "name": "stdout",
     "output_type": "stream",
     "text": [
      "features Index(['Pclass', 'Sex', 'Age', 'SibSp', 'Parch', 'Fare', 'Cabin', 'Embarked',\n",
      "       'Title', 'Honor'],\n",
      "      dtype='object')\n",
      "n_estimators: 10\n",
      "max_depth: 1\n",
      "X_train score =  0.7822822822822822\n",
      "feature_importances =  ['Pclass' 'Fare' 'Sex' 'Cabin' 'Title' 'Age' 'SibSp' 'Parch' 'Embarked'\n",
      " 'Honor']\n",
      "roc_auc =  0.7254046967624258\n",
      "n_estimators: 10\n",
      "max_depth: 2\n",
      "X_train score =  0.8288288288288288\n",
      "feature_importances =  ['Title' 'Sex' 'Pclass' 'Fare' 'SibSp' 'Cabin' 'Age' 'Embarked' 'Parch'\n",
      " 'Honor']\n",
      "roc_auc =  0.8104195166438668\n",
      "n_estimators: 10\n",
      "max_depth: 3\n",
      "X_train score =  0.8348348348348348\n",
      "feature_importances =  ['Sex' 'Title' 'Pclass' 'Cabin' 'Fare' 'Age' 'SibSp' 'Honor' 'Parch'\n",
      " 'Embarked']\n",
      "roc_auc =  0.8181714546283629\n",
      "n_estimators: 100\n",
      "max_depth: 1\n",
      "X_train score =  0.7867867867867868\n",
      "feature_importances =  ['Title' 'Sex' 'Pclass' 'Fare' 'Cabin' 'Embarked' 'Age' 'SibSp' 'Honor'\n",
      " 'Parch']\n",
      "roc_auc =  0.7547309621523028\n",
      "n_estimators: 100\n",
      "max_depth: 2\n",
      "X_train score =  0.8258258258258259\n",
      "feature_importances =  ['Title' 'Sex' 'Fare' 'Pclass' 'Cabin' 'Age' 'SibSp' 'Embarked' 'Honor'\n",
      " 'Parch']\n",
      "roc_auc =  0.8122435020519836\n",
      "n_estimators: 100\n",
      "max_depth: 3\n",
      "X_train score =  0.8288288288288288\n",
      "feature_importances =  ['Title' 'Sex' 'Fare' 'Cabin' 'Pclass' 'SibSp' 'Age' 'Embarked' 'Parch'\n",
      " 'Honor']\n",
      "roc_auc =  0.8175444596443229\n",
      "n_estimators: 200\n",
      "max_depth: 1\n",
      "X_train score =  0.7957957957957958\n",
      "feature_importances =  ['Title' 'Sex' 'Fare' 'Pclass' 'Cabin' 'Embarked' 'Age' 'Parch' 'Honor'\n",
      " 'SibSp']\n",
      "roc_auc =  0.7806087551299589\n",
      "n_estimators: 200\n",
      "max_depth: 2\n",
      "X_train score =  0.8093093093093093\n",
      "feature_importances =  ['Title' 'Sex' 'Fare' 'Pclass' 'Cabin' 'Age' 'Embarked' 'SibSp' 'Honor'\n",
      " 'Parch']\n",
      "roc_auc =  0.7994756041951665\n",
      "n_estimators: 200\n",
      "max_depth: 3\n",
      "X_train score =  0.8288288288288288\n",
      "feature_importances =  ['Sex' 'Title' 'Pclass' 'Fare' 'Cabin' 'Age' 'SibSp' 'Embarked' 'Parch'\n",
      " 'Honor']\n",
      "roc_auc =  0.8161194710442317\n",
      "RandomForestClassifier(bootstrap=True, class_weight=None, criterion='gini',\n",
      "            max_depth=3, max_features='auto', max_leaf_nodes=None,\n",
      "            min_impurity_decrease=0.0, min_impurity_split=None,\n",
      "            min_samples_leaf=1, min_samples_split=2,\n",
      "            min_weight_fraction_leaf=0.0, n_estimators=200, n_jobs=1,\n",
      "            oob_score=False, random_state=None, verbose=0,\n",
      "            warm_start=False)\n",
      "0.8687443000455997\n",
      "{'max_depth': 3, 'n_estimators': 100}\n",
      "feature_importances =  ['Sex' 'Title' 'Pclass' 'Fare' 'Cabin' 'Age' 'SibSp' 'Embarked' 'Parch'\n",
      " 'Honor']\n"
     ]
    }
   ],
   "source": [
    "# RandomForest\n",
    "print('features', X_train.columns)\n",
    "for e in [10,100,200]:\n",
    "    for m in [1,2,3]:\n",
    "        rfc = RandomForestClassifier(n_estimators=e, max_depth=m).fit(X_train, y_train)\n",
    "        score = rfc.score(X_train, y_train)\n",
    "        yp_X = rfc.predict(X_train)\n",
    "        aucscore = roc_auc_score(y_train,yp_X)\n",
    "        yp_Xt = rfc.predict_proba(X_val)\n",
    "        print('n_estimators:', e)\n",
    "        print('max_depth:', m)\n",
    "        print('X_train score = ',score)\n",
    "        print('feature_importances = ', \n",
    "              X_train.columns[np.argsort(-rfc.feature_importances_)].values)\n",
    "        print('roc_auc = ',aucscore)\n",
    "\n",
    "# GridSearchCV\n",
    "grid_values = {'n_estimators':[10,100,200], 'max_depth':[1,2,3]}\n",
    "grid_clf_search = GridSearchCV(rfc, param_grid=grid_values, scoring= 'roc_auc')\n",
    "grid_clf_search.fit(X_train, y_train)\n",
    "print(grid_clf_search.estimator)\n",
    "print(grid_clf_search.best_score_)\n",
    "print(grid_clf_search.best_params_)\n",
    "print('feature_importances = ', \n",
    "      X_train.columns[np.argsort(-rfc.feature_importances_)].values)"
   ]
  },
  {
   "cell_type": "markdown",
   "metadata": {},
   "source": [
    "SVM"
   ]
  },
  {
   "cell_type": "code",
   "execution_count": 201,
   "metadata": {},
   "outputs": [
    {
     "name": "stdout",
     "output_type": "stream",
     "text": [
      "SVC(C=1.0, cache_size=200, class_weight=None, coef0=0.0,\n",
      "  decision_function_shape='ovr', degree=3, gamma='auto', kernel='rbf',\n",
      "  max_iter=-1, probability=False, random_state=None, shrinking=True,\n",
      "  tol=0.001, verbose=False)\n",
      "0.7802097583219334\n",
      "{'C': 5, 'gamma': 0.01}\n"
     ]
    }
   ],
   "source": [
    "#SVM\n",
    "# for C in [1,5,10]:\n",
    "#     for gamma in [0.01,0.03,0.1]:\n",
    "#         svm = SVC(kernel='rbf', C=C, gamma=gamma).fit(X_train,y_train)    \n",
    "#         score = svm.score(X_val, y_val)\n",
    "#         yp_X = svm.predict(X_train)\n",
    "#         aucscore = roc_auc_score(y_train,yp_X)\n",
    "# #         yp_Xt = svm.predict_proba(X_val)\n",
    "#         print('C= ', C)\n",
    "#         print('gamma=', gamma)\n",
    "# #         print('decision_function', svm.decision_function(X_val))\n",
    "#         print('X_train score = ',score)\n",
    "#         print('roc_auc = ',aucscore)\n",
    "\n",
    "# GridSearchCV\n",
    "svm = SVC(kernel='rbf').fit(X_train,y_train)    \n",
    "# grid_values = {'kernel':['linear','poly','rbf','sigmoid'],'C':[1,5,10], 'gamma':[0.01,0.03,0.1]}\n",
    "grid_values = {'C':[1,5,10], 'gamma':[0.01,0.03,0.1]}\n",
    "grid_clf_search = GridSearchCV(svm, param_grid=grid_values, scoring= 'roc_auc')\n",
    "grid_clf_search.fit(X_train, y_train)\n",
    "print(grid_clf_search.estimator)\n",
    "print(grid_clf_search.best_score_)\n",
    "print(grid_clf_search.best_params_)"
   ]
  },
  {
   "cell_type": "markdown",
   "metadata": {},
   "source": [
    "Stochastic Gradient Descent (SDG)"
   ]
  },
  {
   "cell_type": "code",
   "execution_count": 209,
   "metadata": {},
   "outputs": [
    {
     "name": "stdout",
     "output_type": "stream",
     "text": [
      "alpha: 0.001\n",
      "X_train score =  0.7882882882882883\n",
      "roc_auc =  0.7880186958504333\n",
      "alpha: 0.01\n",
      "X_train score =  0.8123123123123123\n",
      "roc_auc =  0.8040640674874601\n",
      "alpha: 0.1\n",
      "X_train score =  0.7912912912912913\n",
      "roc_auc =  0.7576949384404925\n",
      "SGDClassifier(alpha=0.1, average=False, class_weight=None, epsilon=0.1,\n",
      "       eta0=0.0, fit_intercept=True, l1_ratio=0.15,\n",
      "       learning_rate='optimal', loss='hinge', max_iter=1000, n_iter=None,\n",
      "       n_jobs=1, penalty='l2', power_t=0.5, random_state=None,\n",
      "       shuffle=True, tol=None, verbose=0, warm_start=False)\n",
      "0.8485807113543091\n",
      "{'alpha': 0.001, 'max_iter': 1000}\n"
     ]
    }
   ],
   "source": [
    "# Stochastic Gradient Descent (SGD) easily scale with more than 10^5 samples and features\n",
    "for alpha in [0.001, 0.01, 0.1]:\n",
    "    sgd = SGDClassifier(alpha=alpha, max_iter=1000).fit(X_train, y_train)\n",
    "    score = sgd.score(X_train, y_train)\n",
    "    yp_X = sgd.predict(X_train)\n",
    "    aucscore = roc_auc_score(y_train,yp_X)\n",
    "    print('alpha:', alpha)\n",
    "#     print('epochs:', epochs)\n",
    "    print('X_train score = ',score)\n",
    "    print('roc_auc = ',aucscore)\n",
    "        \n",
    "# GridSearchCV\n",
    "# 'alpha':[0.0001,0.0003,0.0009]\n",
    "grid_values = {'alpha':[0.001,0.01,0.1], 'max_iter':[1000]}\n",
    "grid_clf_search = GridSearchCV(sgd, param_grid=grid_values, scoring= 'roc_auc')\n",
    "grid_clf_search.fit(X_train, y_train)\n",
    "print(grid_clf_search.estimator)\n",
    "print(grid_clf_search.best_score_)\n",
    "print(grid_clf_search.best_params_)"
   ]
  },
  {
   "cell_type": "markdown",
   "metadata": {},
   "source": [
    "Neural Network"
   ]
  },
  {
   "cell_type": "code",
   "execution_count": 210,
   "metadata": {},
   "outputs": [
    {
     "name": "stdout",
     "output_type": "stream",
     "text": [
      "alpha: 0.0001\n",
      "X_train score =  0.7937219730941704\n",
      "roc_auc =  0.7576949384404925\n",
      "alpha: 0.001\n",
      "X_train score =  0.6502242152466368\n",
      "roc_auc =  0.7576949384404925\n",
      "alpha: 0.01\n",
      "X_train score =  0.7847533632286996\n",
      "roc_auc =  0.7576949384404925\n",
      "MLPClassifier(activation='relu', alpha=0.01, batch_size='auto', beta_1=0.9,\n",
      "       beta_2=0.999, early_stopping=False, epsilon=1e-08,\n",
      "       hidden_layer_sizes=(100,), learning_rate='constant',\n",
      "       learning_rate_init=0.001, max_iter=1000, momentum=0.9,\n",
      "       nesterovs_momentum=True, power_t=0.5, random_state=None,\n",
      "       shuffle=True, solver='adam', tol=0.0001, validation_fraction=0.1,\n",
      "       verbose=False, warm_start=False)\n",
      "0.7619414044687642\n",
      "{'alpha': 0.001, 'max_iter': 1000}\n"
     ]
    }
   ],
   "source": [
    "# Neural Network\n",
    "for alpha in [0.0001, 0.001, 0.01]:\n",
    "    mlp = MLPClassifier(alpha=alpha, max_iter=1000).fit(X_train, y_train)\n",
    "    score = mlp.score(X_val,y_val)\n",
    "    yp = mlp.predict(X_val)\n",
    "    fpr, tpr, _ = roc_curve(y_val,yp)\n",
    "    roc_auc=auc(fpr,tpr)\n",
    "    print('alpha:', alpha)\n",
    "#     print('epochs:', epochs)\n",
    "    print('X_train score = ',score)\n",
    "    print('roc_auc = ',aucscore)\n",
    "        \n",
    "# GridSearchCV\n",
    "grid_values = {'alpha':[0.0001,0.001,0.01], 'max_iter':[1000]}\n",
    "grid_clf_search = GridSearchCV(mlp, param_grid=grid_values, scoring= 'roc_auc')\n",
    "grid_clf_search.fit(X_train, y_train)\n",
    "print(grid_clf_search.estimator)\n",
    "print(grid_clf_search.best_score_)\n",
    "print(grid_clf_search.best_params_)"
   ]
  },
  {
   "cell_type": "markdown",
   "metadata": {},
   "source": [
    "Navie Bayes - GaussianNB"
   ]
  },
  {
   "cell_type": "code",
   "execution_count": 211,
   "metadata": {},
   "outputs": [
    {
     "name": "stdout",
     "output_type": "stream",
     "text": [
      "score =  0.7847533632286996\n",
      "roc =  0.7791904514789829\n",
      "GaussianNB(priors=None)\n",
      "0.8212494300045597\n",
      "{'priors': None}\n"
     ]
    }
   ],
   "source": [
    "# Navie Bayes - GaussianNB\n",
    "gnb = GaussianNB().fit(X_train, y_train)\n",
    "gnb.score(X_val,y_val)\n",
    "yp = lr.predict(X_val)\n",
    "fpr, tpr, _ = roc_curve(y_val,yp)\n",
    "roc_auc=auc(fpr,tpr)\n",
    "print('score = ',score)\n",
    "print('roc = ',roc_auc)\n",
    "\n",
    "# Logistic Regression with GridSearchCV\n",
    "# grid_values = {'n_estimators':[20, 30, 40], 'max_features':[2,3]}\n",
    "grid_values = {'priors':[None]}\n",
    "grid_clf_search = GridSearchCV(gnb, param_grid=grid_values, scoring= 'roc_auc')\n",
    "grid_clf_search.fit(X_train, y_train)\n",
    "print(grid_clf_search.estimator)\n",
    "print(grid_clf_search.best_score_)\n",
    "print(grid_clf_search.best_params_)"
   ]
  },
  {
   "cell_type": "markdown",
   "metadata": {},
   "source": [
    "Dummy Classifier"
   ]
  },
  {
   "cell_type": "code",
   "execution_count": 208,
   "metadata": {},
   "outputs": [
    {
     "name": "stdout",
     "output_type": "stream",
     "text": [
      "score =  0.5022421524663677\n",
      "roc =  0.49455111572392324\n",
      "DummyClassifier(constant=None, random_state=None, strategy='stratified')\n",
      "0.5150763793889649\n",
      "{'strategy': 'stratified'}\n"
     ]
    }
   ],
   "source": [
    "# Dummy Classifier\n",
    "dummy = DummyClassifier().fit(X_train, y_train)\n",
    "# Therefore the dummy 'most_frequent' classifier always predicts class 0\n",
    "score = dummy.score(X_val,y_val)\n",
    "yp = dummy.predict(X_val)\n",
    "fpr, tpr, _ = roc_curve(y_val,yp)\n",
    "roc_auc=auc(fpr,tpr)\n",
    "print('score = ',score)\n",
    "print('roc = ',roc_auc)\n",
    "\n",
    "# grid_values = {'n_estimators':[20, 30, 40], 'max_features':[2,3]}\n",
    "grid_values = {'strategy':['stratified','most_frequent','prior','uniform']}\n",
    "grid_clf_search = GridSearchCV(dummy, param_grid=grid_values, scoring= 'roc_auc')\n",
    "grid_clf_search.fit(X_train, y_train)\n",
    "print(grid_clf_search.estimator)\n",
    "print(grid_clf_search.best_score_)\n",
    "print(grid_clf_search.best_params_)\n",
    "# plot_roc_auc(tpr,fpr,roc_auc)"
   ]
  },
  {
   "cell_type": "code",
   "execution_count": null,
   "metadata": {},
   "outputs": [],
   "source": []
  },
  {
   "cell_type": "code",
   "execution_count": null,
   "metadata": {},
   "outputs": [],
   "source": []
  },
  {
   "cell_type": "code",
   "execution_count": null,
   "metadata": {},
   "outputs": [],
   "source": [
    "from sklearn.ensemble import RandomForestClassifier\n",
    "from sklearn.model_selection import train_test_split\n",
    "from adspy_shared_utilities import plot_class_regions_for_classifier_subplot\n",
    "\n",
    "fig, subaxes = plt.subplots(1, 1, figsize=(6, 6))\n",
    "clf = RandomForestClassifier().fit(X_train, y_train)\n",
    "title = 'Random Forest Classifier, complex binary dataset, default settings'\n",
    "plot_class_regions_for_classifier_subplot(clf, X_train, y_train, X_val,y_val, title, subaxes)\n",
    "plt.show()"
   ]
  },
  {
   "cell_type": "code",
   "execution_count": null,
   "metadata": {},
   "outputs": [],
   "source": [
    "path+'adspy_shared_utilities'"
   ]
  },
  {
   "cell_type": "code",
   "execution_count": null,
   "metadata": {},
   "outputs": [],
   "source": [
    "print(df_train.Cabin.unique())\n",
    "print(df_test.Cabin.unique())"
   ]
  },
  {
   "cell_type": "code",
   "execution_count": null,
   "metadata": {},
   "outputs": [],
   "source": [
    "print(df_train.isnull().sum())\n",
    "print(df_train.Age.mean())\n",
    "print(df_train.Age.median())"
   ]
  },
  {
   "cell_type": "code",
   "execution_count": null,
   "metadata": {},
   "outputs": [],
   "source": [
    "df_test.shape"
   ]
  },
  {
   "cell_type": "code",
   "execution_count": 41,
   "metadata": {},
   "outputs": [],
   "source": [
    "def plot_roc_auc(tpr, fpr, roc_auc):\n",
    "    plt.figure()\n",
    "    plt.xlim([-0.01, 1.00])\n",
    "    plt.ylim([-0.01, 1.01])\n",
    "    plt.plot(fpr, tpr, lw=3, label='ROC curve (area = {:0.2f})'.format(roc_auc))\n",
    "    plt.xlabel('False Positive Rate', fontsize=16)\n",
    "    plt.ylabel('True Positive Rate', fontsize=16)\n",
    "    plt.title('ROC curve (1-of-10 digits classifier)', fontsize=16)\n",
    "    plt.legend(loc='lower right', fontsize=13)\n",
    "    plt.plot([0, 1], [0, 1], color='navy', lw=3, linestyle='--')\n",
    "    plt.axes().set_aspect('equal')\n",
    "    plt.show()"
   ]
  },
  {
   "cell_type": "code",
   "execution_count": 42,
   "metadata": {},
   "outputs": [
    {
     "name": "stderr",
     "output_type": "stream",
     "text": [
      "/Users/lambert/virtualenvs/tensorflow/lib/python3.6/site-packages/matplotlib/cbook/deprecation.py:107: MatplotlibDeprecationWarning: Adding an axes using the same arguments as a previous axes currently reuses the earlier instance.  In a future version, a new instance will always be created and returned.  Meanwhile, this warning can be suppressed, and the future behavior ensured, by passing a unique label to each axes instance.\n",
      "  warnings.warn(message, mplDeprecation, stacklevel=1)\n"
     ]
    },
    {
     "data": {
      "image/png": "[encoded data removed]",
      "text/plain": [
       "<Figure size 432x288 with 1 Axes>"
      ]
     },
     "metadata": {},
     "output_type": "display_data"
    }
   ],
   "source": [
    "plot_roc_auc(tpr,fpr,roc_auc)"
   ]
  },
  {
   "cell_type": "code",
   "execution_count": 37,
   "metadata": {},
   "outputs": [
    {
     "data": {
      "text/plain": [
       "(array([0.        , 0.55172414, 1.        ]),\n",
       " array([0.        , 0.17647059, 1.        ]))"
      ]
     },
     "execution_count": 37,
     "metadata": {},
     "output_type": "execute_result"
    }
   ],
   "source": [
    "tpr, fpr"
   ]
  },
  {
   "cell_type": "code",
   "execution_count": 38,
   "metadata": {},
   "outputs": [],
   "source": [
    "tpr = [0.,0.97,1.]"
   ]
  },
  {
   "cell_type": "code",
   "execution_count": null,
   "metadata": {},
   "outputs": [],
   "source": []
  }
 ],
 "metadata": {
  "kernelspec": {
   "display_name": "Python 3",
   "language": "python",
   "name": "python3"
  },
  "language_info": {
   "codemirror_mode": {
    "name": "ipython",
    "version": 3
   },
   "file_extension": ".py",
   "mimetype": "text/x-python",
   "name": "python",
   "nbconvert_exporter": "python",
   "pygments_lexer": "ipython3",
   "version": "3.6.4"
  }
 },
 "nbformat": 4,
 "nbformat_minor": 2
}
